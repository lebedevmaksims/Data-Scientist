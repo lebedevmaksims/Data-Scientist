{
  "cells": [
    {
      "cell_type": "markdown",
      "metadata": {
        "id": "ezM859yBzPcd"
      },
      "source": [
        "# **Необходимые для работы библиотеки**"
      ]
    },
    {
      "cell_type": "code",
      "execution_count": null,
      "metadata": {
        "colab": {
          "base_uri": "https://localhost:8080/"
        },
        "id": "N6VMXkuwzSSs",
        "outputId": "937ecb51-ac17-4a8e-964b-cb38eb09be67"
      },
      "outputs": [
        {
          "output_type": "stream",
          "name": "stdout",
          "text": [
            "Device available:  cuda\n"
          ]
        }
      ],
      "source": [
        "import pandas as pd\n",
        "import numpy as np\n",
        "import torch\n",
        "from transformers import RobertaTokenizer, RobertaModel, RobertaConfig\n",
        "from sklearn.model_selection import train_test_split\n",
        "from sklearn.metrics import mean_squared_error\n",
        "from torch.utils.data import DataLoader, Dataset, RandomSampler, SequentialSampler\n",
        "from transformers import AdamW, get_linear_schedule_with_warmup\n",
        "import time\n",
        "from torch import nn, optim\n",
        "import csv\n",
        "import matplotlib.pyplot as plt\n",
        "import seaborn as sns\n",
        "import nltk\n",
        "from nltk.corpus import stopwords\n",
        "import re\n",
        "from transformers import BertTokenizer, BertModel, BertForSequenceClassification, AdamW\n",
        "from sklearn.preprocessing import LabelEncoder\n",
        "\n",
        "device = \"cuda\" if torch.cuda.is_available() else \"cpu\"\n",
        "print(\"Device available: \", device)"
      ]
    },
    {
      "cell_type": "markdown",
      "metadata": {
        "id": "mCIDmP6O9tFa"
      },
      "source": [
        "# **Загрузка Датасета**"
      ]
    },
    {
      "cell_type": "code",
      "execution_count": null,
      "metadata": {
        "id": "__bdxNOMznwG"
      },
      "outputs": [],
      "source": [
        "train_data = []\n",
        "with open('/content/drugsComTrain_raw.csv', 'r', encoding='utf-8', errors='ignore') as csvfile:\n",
        "    reader = csv.reader(csvfile)\n",
        "    for row in reader:\n",
        "        train_data.append(row)\n",
        "\n",
        "train_df = pd.DataFrame(train_data[1:], columns=train_data[0])\n",
        "\n",
        "test_data = []\n",
        "with open('/content/drugsComTest_raw.csv', 'r', encoding='utf-8', errors='ignore') as csvfile:\n",
        "    reader = csv.reader(csvfile)\n",
        "    for row in reader:\n",
        "        test_data.append(row)\n",
        "\n",
        "test_df = pd.DataFrame(test_data[1:], columns=test_data[0])"
      ]
    },
    {
      "cell_type": "code",
      "execution_count": null,
      "metadata": {
        "id": "9iSRzslopDHT"
      },
      "outputs": [],
      "source": [
        "train_df['rating'] = train_df['rating'].astype(float)\n",
        "test_df['rating'] = test_df['rating'].astype(float)"
      ]
    },
    {
      "cell_type": "code",
      "execution_count": null,
      "metadata": {
        "colab": {
          "base_uri": "https://localhost:8080/"
        },
        "id": "tOWp-N1ao8xZ",
        "outputId": "fe11907a-f332-400f-a51a-635bb49993e5"
      },
      "outputs": [
        {
          "output_type": "stream",
          "name": "stdout",
          "text": [
            "float64\n",
            "float64\n"
          ]
        }
      ],
      "source": [
        "print(train_df['rating'].dtypes)\n",
        "print(test_df['rating'].dtypes)"
      ]
    },
    {
      "cell_type": "code",
      "execution_count": null,
      "metadata": {
        "colab": {
          "base_uri": "https://localhost:8080/"
        },
        "id": "JCE94l2NPEkI",
        "outputId": "99f4c211-431f-46da-f099-0bf2a00220e0"
      },
      "outputs": [
        {
          "output_type": "stream",
          "name": "stdout",
          "text": [
            "  uniqueID                  drugName                     condition  \\\n",
            "0   206461                 Valsartan  Left Ventricular Dysfunction   \n",
            "1    95260                Guanfacine                          ADHD   \n",
            "2    92703                    Lybrel                 Birth Control   \n",
            "3   138000                Ortho Evra                 Birth Control   \n",
            "4    35696  Buprenorphine / naloxone             Opiate Dependence   \n",
            "\n",
            "                                              review  rating       date  \\\n",
            "0  \"It has no side effect, I take it in combinati...     9.0  20-May-12   \n",
            "1  \"My son is halfway through his fourth week of ...     8.0  27-Apr-10   \n",
            "2  \"I used to take another oral contraceptive, wh...     5.0  14-Dec-09   \n",
            "3  \"This is my first time using any form of birth...     8.0   3-Nov-15   \n",
            "4  \"Suboxone has completely turned my life around...     9.0  27-Nov-16   \n",
            "\n",
            "  usefulCount  \n",
            "0          27  \n",
            "1         192  \n",
            "2          17  \n",
            "3          10  \n",
            "4          37  \n"
          ]
        }
      ],
      "source": [
        "print(train_df.head())"
      ]
    },
    {
      "cell_type": "code",
      "execution_count": null,
      "metadata": {
        "colab": {
          "base_uri": "https://localhost:8080/"
        },
        "id": "x23OSMsilopO",
        "outputId": "6b68262b-9b3b-4a7b-a678-5e86f0743c12"
      },
      "outputs": [
        {
          "output_type": "stream",
          "name": "stdout",
          "text": [
            "  uniqueID         drugName                     condition  \\\n",
            "0   163740      Mirtazapine                    Depression   \n",
            "1   206473       Mesalamine  Crohn's Disease, Maintenance   \n",
            "2   159672          Bactrim       Urinary Tract Infection   \n",
            "3    39293         Contrave                   Weight Loss   \n",
            "4    97768  Cyclafem 1 / 35                 Birth Control   \n",
            "\n",
            "                                              review  rating       date  \\\n",
            "0  \"I&#039;ve tried a few antidepressants over th...    10.0  28-Feb-12   \n",
            "1  \"My son has Crohn&#039;s disease and has done ...     8.0  17-May-09   \n",
            "2                      \"Quick reduction of symptoms\"     9.0  29-Sep-17   \n",
            "3  \"Contrave combines drugs that were used for al...     9.0   5-Mar-17   \n",
            "4  \"I have been on this birth control for one cyc...     9.0  22-Oct-15   \n",
            "\n",
            "  usefulCount  \n",
            "0          22  \n",
            "1          17  \n",
            "2           3  \n",
            "3          35  \n",
            "4           4  \n"
          ]
        }
      ],
      "source": [
        "print(test_df.head())"
      ]
    },
    {
      "cell_type": "code",
      "execution_count": null,
      "metadata": {
        "colab": {
          "base_uri": "https://localhost:8080/"
        },
        "id": "g7farj-WPRqZ",
        "outputId": "9da685ce-ed4a-41f4-d94e-9d227022e453"
      },
      "outputs": [
        {
          "output_type": "execute_result",
          "data": {
            "text/plain": [
              "uniqueID       0\n",
              "drugName       0\n",
              "condition      0\n",
              "review         0\n",
              "rating         0\n",
              "date           0\n",
              "usefulCount    0\n",
              "dtype: int64"
            ]
          },
          "metadata": {},
          "execution_count": 10
        }
      ],
      "source": [
        "train_df.isnull().sum()"
      ]
    },
    {
      "cell_type": "code",
      "execution_count": null,
      "metadata": {
        "colab": {
          "base_uri": "https://localhost:8080/"
        },
        "id": "9wfbqiB7QLyl",
        "outputId": "01e751a2-2fc7-4e65-ad8e-bb8753cd98c7"
      },
      "outputs": [
        {
          "output_type": "execute_result",
          "data": {
            "text/plain": [
              "(161297, 7)"
            ]
          },
          "metadata": {},
          "execution_count": 11
        }
      ],
      "source": [
        "train_df.shape"
      ]
    },
    {
      "cell_type": "code",
      "execution_count": null,
      "metadata": {
        "colab": {
          "base_uri": "https://localhost:8080/"
        },
        "id": "fsVCbZcsSr5_",
        "outputId": "9b58ec08-c349-42b4-aca7-79fafbd1ccbc"
      },
      "outputs": [
        {
          "output_type": "stream",
          "name": "stdout",
          "text": [
            "<class 'pandas.core.frame.DataFrame'>\n",
            "RangeIndex: 161297 entries, 0 to 161296\n",
            "Data columns (total 7 columns):\n",
            " #   Column       Non-Null Count   Dtype  \n",
            "---  ------       --------------   -----  \n",
            " 0   uniqueID     161297 non-null  object \n",
            " 1   drugName     161297 non-null  object \n",
            " 2   condition    161297 non-null  object \n",
            " 3   review       161297 non-null  object \n",
            " 4   rating       161297 non-null  float64\n",
            " 5   date         161297 non-null  object \n",
            " 6   usefulCount  161297 non-null  object \n",
            "dtypes: float64(1), object(6)\n",
            "memory usage: 8.6+ MB\n"
          ]
        }
      ],
      "source": [
        "train_df.info()"
      ]
    },
    {
      "cell_type": "code",
      "execution_count": null,
      "metadata": {
        "colab": {
          "base_uri": "https://localhost:8080/"
        },
        "id": "R8DnNs9NSn63",
        "outputId": "12a3b253-9731-41a9-bc56-ece8617b9980"
      },
      "outputs": [
        {
          "output_type": "execute_result",
          "data": {
            "text/plain": [
              "condition\n",
              "Birth Control                                              28788\n",
              "Depression                                                  9069\n",
              "Pain                                                        6145\n",
              "Anxiety                                                     5904\n",
              "Acne                                                        5588\n",
              "                                                           ...  \n",
              "Dissociative Identity Disorde                                  1\n",
              "Hydrocephalus                                                  1\n",
              "Hyperlipoproteinemia Type III, Elevated beta-VLDL   IDL        1\n",
              "Q Feve                                                         1\n",
              "Neutropenia                                                    1\n",
              "Name: count, Length: 885, dtype: int64"
            ]
          },
          "metadata": {},
          "execution_count": 13
        }
      ],
      "source": [
        "train_df['condition'].value_counts()"
      ]
    },
    {
      "cell_type": "markdown",
      "metadata": {
        "id": "kFn3vLSdmAva"
      },
      "source": [
        "# **Предобработка данных**"
      ]
    },
    {
      "cell_type": "markdown",
      "source": [
        "Проведем очистку данных перед обучением модели:\n",
        "- приведем текст к нижнему регистру\n",
        "- удалим короткие слова (длиной 1-2 буквы)\n",
        "- удалим числа\n",
        "- удалим пунктуацию\n",
        "- удалим стоп-слова (английские, так как датасет английский)"
      ],
      "metadata": {
        "id": "gQC2xm5iWv8C"
      }
    },
    {
      "cell_type": "code",
      "execution_count": null,
      "metadata": {
        "colab": {
          "base_uri": "https://localhost:8080/"
        },
        "id": "rVqozh0mmGNi",
        "outputId": "9c71a32d-5493-468b-e056-8af3d78d36cc"
      },
      "outputs": [
        {
          "output_type": "stream",
          "name": "stderr",
          "text": [
            "[nltk_data] Downloading package stopwords to /root/nltk_data...\n",
            "[nltk_data]   Unzipping corpora/stopwords.zip.\n"
          ]
        },
        {
          "output_type": "stream",
          "name": "stdout",
          "text": [
            "                                              review  \\\n",
            "0  \"It has no side effect, I take it in combinati...   \n",
            "1  \"My son is halfway through his fourth week of ...   \n",
            "2  \"I used to take another oral contraceptive, wh...   \n",
            "3  \"This is my first time using any form of birth...   \n",
            "4  \"Suboxone has completely turned my life around...   \n",
            "\n",
            "                                      cleaned_review  \n",
            "0     side effect take combination bystolic fish oil  \n",
            "1  son halfway fourth week intuniv became concern...  \n",
            "2  used take another oral contraceptive pill cycl...  \n",
            "3  first time using form birth control glad went ...  \n",
            "4  suboxone completely turned life around feel he...  \n",
            "                                              review  \\\n",
            "0  \"I&#039;ve tried a few antidepressants over th...   \n",
            "1  \"My son has Crohn&#039;s disease and has done ...   \n",
            "2                      \"Quick reduction of symptoms\"   \n",
            "3  \"Contrave combines drugs that were used for al...   \n",
            "4  \"I have been on this birth control for one cyc...   \n",
            "\n",
            "                                      cleaned_review  \n",
            "0  tried antidepressants years citalopram fluoxet...  \n",
            "1  son crohn disease done well asacol complaints ...  \n",
            "2                           quick reduction symptoms  \n",
            "3  contrave combines drugs used alcohol smoking o...  \n",
            "4  birth control one cycle reading reviews type s...  \n"
          ]
        }
      ],
      "source": [
        "nltk.download('stopwords')\n",
        "stop_words = set(stopwords.words('english'))\n",
        "\n",
        "def clean_text(text):\n",
        "    text = text.lower()\n",
        "    text = re.sub(r'\\b\\w{1,2}\\b', '', text)\n",
        "    text = re.sub(r'\\d+', '', text)\n",
        "    text = re.sub(r'[^\\w\\s]', '', text)\n",
        "    text = ' '.join([word for word in text.split() if word not in stop_words])\n",
        "    return text\n",
        "\n",
        "train_df['cleaned_review'] = train_df['review'].apply(clean_text)\n",
        "test_df['cleaned_review'] = test_df['review'].apply(clean_text)\n",
        "\n",
        "print(train_df[['review', 'cleaned_review']].head())\n",
        "print(test_df[['review', 'cleaned_review']].head())"
      ]
    },
    {
      "cell_type": "markdown",
      "metadata": {
        "id": "SUeOquJkS6Wm"
      },
      "source": [
        "# **Визуализация**"
      ]
    },
    {
      "cell_type": "markdown",
      "source": [
        "Визуализируем некоторую информацию о данных датасета:\n",
        "- Топ 20 условий для выдачи лекарства\n",
        "- Гистограмму рейтинга лекартсв\n",
        "- Названия самых популярных лекарств"
      ],
      "metadata": {
        "id": "eF-wKebVZv-v"
      }
    },
    {
      "cell_type": "code",
      "execution_count": null,
      "metadata": {
        "colab": {
          "base_uri": "https://localhost:8080/"
        },
        "id": "qHxKDdfvQfMd",
        "outputId": "bbe35ca7-8cfe-48d2-e006-d333c7bb7881"
      },
      "outputs": [
        {
          "output_type": "display_data",
          "data": {
            "text/plain": [
              "<Figure size 1400x800 with 1 Axes>"
            ],
            "image/png": "[encoded data removed]"
          },
          "metadata": {}
        }
      ],
      "source": [
        "plt.figure(figsize=(14,8))\n",
        "sns.countplot(data=train_df, y='condition', order=train_df['condition'].value_counts().index[:20])\n",
        "plt.title('Top 20 Conditions by Count')\n",
        "plt.xlabel('Count')\n",
        "plt.ylabel('Condition')\n",
        "plt.show()"
      ]
    },
    {
      "cell_type": "code",
      "execution_count": null,
      "metadata": {
        "colab": {
          "base_uri": "https://localhost:8080/"
        },
        "id": "khv4QOlwTWlJ",
        "outputId": "e607654b-4be4-49c6-e834-4e75a5601171"
      },
      "outputs": [
        {
          "output_type": "display_data",
          "data": {
            "text/plain": [
              "<Figure size 1000x600 with 1 Axes>"
            ],
            "image/png": "[encoded data removed]"
          },
          "metadata": {}
        }
      ],
      "source": [
        "plt.figure(figsize=(10,6))\n",
        "sns.histplot(data=train_df, x='rating', bins=10, kde=True)\n",
        "plt.title('Histogram of Ratings')\n",
        "plt.xlabel('Rating')\n",
        "plt.ylabel('Frequency')\n",
        "plt.show()"
      ]
    },
    {
      "cell_type": "code",
      "execution_count": null,
      "metadata": {
        "colab": {
          "base_uri": "https://localhost:8080/"
        },
        "id": "wFvE01wyTjFs",
        "outputId": "97ab76ec-7667-4770-a334-2e30b2d07a3f"
      },
      "outputs": [
        {
          "output_type": "stream",
          "name": "stdout",
          "text": [
            "<wordcloud.wordcloud.WordCloud object at 0x7854b5b83fd0>\n"
          ]
        },
        {
          "output_type": "display_data",
          "data": {
            "text/plain": [
              "<Figure size 1500x1500 with 1 Axes>"
            ],
            "image/png": "[encoded data removed]"
          },
          "metadata": {}
        }
      ],
      "source": [
        "from wordcloud import WordCloud\n",
        "from wordcloud import STOPWORDS\n",
        "\n",
        "stopwords = set(STOPWORDS)\n",
        "\n",
        "wordcloud = WordCloud(background_color = 'red', stopwords = stopwords, width = 1200, height = 800).generate(str(train_df['drugName']))\n",
        "\n",
        "plt.rcParams['figure.figsize'] = (15, 15)\n",
        "plt.title('Word Cloud - Drug Names', fontsize = 20)\n",
        "print(wordcloud)\n",
        "plt.axis('off')\n",
        "plt.imshow(wordcloud)\n",
        "plt.show()"
      ]
    },
    {
      "cell_type": "markdown",
      "metadata": {
        "id": "AEk8HeT-nJsq"
      },
      "source": [
        "# **Прогнозирование рейтинга на основе текста отзыва**"
      ]
    },
    {
      "cell_type": "markdown",
      "metadata": {
        "id": "SB5XlnSWnOi8"
      },
      "source": [
        "Для этой задачи я решил использовать трансформер BERT.\n",
        "Выполнение задачи по шагам:\n",
        "- Разделим данные на тренировочную и тестовую выборки\n",
        "- Используем подвыборку данных для более быстрой проверки кода (я решил уменьшить выборку, так как на полной выборке у меня модель обучалась очень много времени)\n",
        "- Загрузим предобученный токенизатор BERT который разобьет текст на токены для BERT, создадим маски внимания и сегментные идентификаторы\n",
        "- Создаим класс для создания Датасета который потом подадим в Dataloader\n",
        "- Создадим Dataset и Dataloader для Train и Val\n",
        "- Проверим элементы созданного и загруженного датасета\n",
        "- Загрузим модель\n",
        "- В качестве оптимизатора будем использовать Adam\n",
        "- Определим функцию потерь\n",
        "- Определим функцию для тренировки модели\n",
        "- Определим функцию для оценки модели\n",
        "- Запустим модель на обучение\n",
        "\n",
        "Сам процесс обучения по 10 эпохам занял около 25 минут.\n",
        "В результате обучения после 10 эпох удалось достиь accuracy = 0.87 что в принципе считаю неплохим результатом."
      ]
    },
    {
      "cell_type": "code",
      "execution_count": null,
      "metadata": {
        "id": "HzA5nZwVneyh"
      },
      "outputs": [],
      "source": [
        "X_train, X_val, y_train, y_val = train_test_split(train_df['cleaned_review'], train_df['rating'], test_size=0.1, random_state=42)"
      ]
    },
    {
      "cell_type": "code",
      "execution_count": null,
      "metadata": {
        "id": "2dA6mAOUvrHi"
      },
      "outputs": [],
      "source": [
        "X_train = X_train[:5000]\n",
        "y_train = y_train[:5000]\n",
        "X_val = X_val[:1000]\n",
        "y_val = y_val[:1000]"
      ]
    },
    {
      "cell_type": "code",
      "execution_count": null,
      "metadata": {
        "colab": {
          "base_uri": "https://localhost:8080/"
        },
        "id": "SXGRou8PvvIw",
        "outputId": "6550be24-f43c-433e-9121-b8592337fa8d"
      },
      "outputs": [
        {
          "output_type": "stream",
          "name": "stdout",
          "text": [
            "Размер тренировочной выборки: 5000\n",
            "Размер валидационной выборки: 1000\n"
          ]
        }
      ],
      "source": [
        "print(\"Размер тренировочной выборки:\", len(X_train))\n",
        "print(\"Размер валидационной выборки:\", len(X_val))"
      ]
    },
    {
      "cell_type": "code",
      "execution_count": null,
      "metadata": {
        "id": "WznWm29inPKh",
        "colab": {
          "base_uri": "https://localhost:8080/",
          "height": 304,
          "referenced_widgets": [
            "03dd490b09814ed2ae73920fa51e3a74",
            "14c78ec34bb84b43835aa97b98ca062f",
            "3f80871d714143b88693d9c012492611",
            "b1bced6932e844d48a6fc69d59be74d9",
            "e81058241f154a54b8b691c93d4429f6",
            "811269182e664bc7942d8f529b02e10a",
            "ec8c5a0be5644031827fa954842c4855",
            "c25d87cf9f724d63972dac4d46f63f65",
            "56d3404704b141fcb1bfacf44571e39d",
            "641422001be64556afe06850191f9fae",
            "d925103a8b8b4165860a0a9e8c4612fa",
            "43346dec9a2c41ef8fdcca285f769c2b",
            "be391b5569aa4a4ab1d161690275da8c",
            "0c7b63363aef48f2b0c5b182507e63c4",
            "1b40254aa018458fb5942b24e49cd726",
            "4ad3880befb64c7aa1ae7754b2f0a626",
            "266312494ec7448d80c47271e41525ab",
            "2713e5b26b3946348f1f2499f45ab834",
            "a0ec07d0bbe942c0b07d51424016529e",
            "be64382018084b338b68b870522de006",
            "ab14b67d42af46fab31429e98a56086b",
            "ef243dc1ec884a919dc2910ca94540ec",
            "fca49efc633442c9b95c7f3971243aa4",
            "3af5a641cd4c43968633e37dedc146f2",
            "227542acf3b74aff82a1416b9cb2432e",
            "6771ea98795043839d838f89038a0489",
            "dd78ef98f4c94114bd1a763b35c8c2e3",
            "51e9c99710274bc0a1b9533bba1e1bd6",
            "908d26273dc84666815fd88ede2590f5",
            "71add95447c74060ba93f867a6cd667d",
            "01af883ef2e94320b616cbaf386593ae",
            "6e578d88a73a4e6ab520ea2fec1e61c3",
            "f48a5df7b7e141c7ad5c8504c3c9e47e",
            "9a4db5a5b54a463f86f3d40c910c7de2",
            "53cdb2736def405b83a48836237a5369",
            "5dd9f895d95f4b939e6f63b8ecee9c6b",
            "9c4f3fd85f054c61957b00d3f92504be",
            "4d2bdfb644df47e8822cfdfded25b6dd",
            "c4469dd66e044eccb8e16f6e54b44ad6",
            "85810b12ec8c4a7992f04a0650e20455",
            "e030a80646d44363a23af1ffe34fef4a",
            "1d83b2bb6a484531b97df6b6ea54b4ca",
            "c18bd39044a04d99b4675d4310b2a1e6",
            "d58b0d9627a04eeda7a100eb91f1f6db"
          ]
        },
        "outputId": "742cb5d6-9e3a-478d-e497-b28837f58783"
      },
      "outputs": [
        {
          "output_type": "stream",
          "name": "stderr",
          "text": [
            "/usr/local/lib/python3.10/dist-packages/huggingface_hub/utils/_token.py:89: UserWarning: \n",
            "The secret `HF_TOKEN` does not exist in your Colab secrets.\n",
            "To authenticate with the Hugging Face Hub, create a token in your settings tab (https://huggingface.co/settings/tokens), set it as secret in your Google Colab and restart your session.\n",
            "You will be able to reuse this secret in all of your notebooks.\n",
            "Please note that authentication is recommended but still optional to access public models or datasets.\n",
            "  warnings.warn(\n"
          ]
        },
        {
          "output_type": "display_data",
          "data": {
            "text/plain": [
              "tokenizer_config.json:   0%|          | 0.00/48.0 [00:00<?, ?B/s]"
            ],
            "application/vnd.jupyter.widget-view+json": {
              "version_major": 2,
              "version_minor": 0,
              "model_id": "03dd490b09814ed2ae73920fa51e3a74"
            }
          },
          "metadata": {}
        },
        {
          "output_type": "display_data",
          "data": {
            "text/plain": [
              "vocab.txt:   0%|          | 0.00/232k [00:00<?, ?B/s]"
            ],
            "application/vnd.jupyter.widget-view+json": {
              "version_major": 2,
              "version_minor": 0,
              "model_id": "43346dec9a2c41ef8fdcca285f769c2b"
            }
          },
          "metadata": {}
        },
        {
          "output_type": "display_data",
          "data": {
            "text/plain": [
              "tokenizer.json:   0%|          | 0.00/466k [00:00<?, ?B/s]"
            ],
            "application/vnd.jupyter.widget-view+json": {
              "version_major": 2,
              "version_minor": 0,
              "model_id": "fca49efc633442c9b95c7f3971243aa4"
            }
          },
          "metadata": {}
        },
        {
          "output_type": "stream",
          "name": "stderr",
          "text": [
            "/usr/local/lib/python3.10/dist-packages/huggingface_hub/file_download.py:1132: FutureWarning: `resume_download` is deprecated and will be removed in version 1.0.0. Downloads always resume when possible. If you want to force a new download, use `force_download=True`.\n",
            "  warnings.warn(\n"
          ]
        },
        {
          "output_type": "display_data",
          "data": {
            "text/plain": [
              "config.json:   0%|          | 0.00/570 [00:00<?, ?B/s]"
            ],
            "application/vnd.jupyter.widget-view+json": {
              "version_major": 2,
              "version_minor": 0,
              "model_id": "9a4db5a5b54a463f86f3d40c910c7de2"
            }
          },
          "metadata": {}
        }
      ],
      "source": [
        "tokenizer = BertTokenizer.from_pretrained('bert-base-uncased')"
      ]
    },
    {
      "cell_type": "code",
      "execution_count": null,
      "metadata": {
        "id": "QDcosKALnaFa"
      },
      "outputs": [],
      "source": [
        "class ReviewsDataset(Dataset):\n",
        "    def __init__(self, reviews, ratings, tokenizer, max_len):\n",
        "        self.reviews = reviews\n",
        "        self.ratings = ratings\n",
        "        self.tokenizer = tokenizer\n",
        "        self.max_len = max_len\n",
        "\n",
        "    def __len__(self):\n",
        "        return len(self.reviews)\n",
        "\n",
        "    def __getitem__(self, item):\n",
        "        review = str(self.reviews[item])\n",
        "        rating = self.ratings[item]\n",
        "\n",
        "        encoding = self.tokenizer.encode_plus(\n",
        "            review,\n",
        "            add_special_tokens=True,\n",
        "            max_length=self.max_len,\n",
        "            return_token_type_ids=False,\n",
        "            padding='max_length',\n",
        "            truncation=True,\n",
        "            return_attention_mask=True,\n",
        "            return_tensors='pt',\n",
        "        )\n",
        "\n",
        "        return {\n",
        "            'review_text': review,\n",
        "            'input_ids': encoding['input_ids'].flatten(),\n",
        "            'attention_mask': encoding['attention_mask'].flatten(),\n",
        "            'rating': torch.tensor(rating, dtype=torch.float)\n",
        "        }"
      ]
    },
    {
      "cell_type": "code",
      "execution_count": null,
      "metadata": {
        "id": "VWGGV6Punjhq"
      },
      "outputs": [],
      "source": [
        "train_dataset = ReviewsDataset(reviews=X_train.to_numpy(), ratings=y_train.to_numpy(), tokenizer=tokenizer, max_len=160)\n",
        "val_dataset = ReviewsDataset(reviews=X_val.to_numpy(), ratings=y_val.to_numpy(), tokenizer=tokenizer, max_len=160)\n",
        "\n",
        "train_loader = DataLoader(train_dataset, batch_size=16, shuffle=True)\n",
        "val_loader = DataLoader(val_dataset, batch_size=16, shuffle=False)"
      ]
    },
    {
      "cell_type": "code",
      "execution_count": null,
      "metadata": {
        "colab": {
          "base_uri": "https://localhost:8080/"
        },
        "id": "dmW4O_eIpjl9",
        "outputId": "59b1e316-28a4-4f28-9a92-620d00d930b9"
      },
      "outputs": [
        {
          "output_type": "stream",
          "name": "stdout",
          "text": [
            "{'review_text': ['worked great depression low dose many years started high dose made anxious unfortunately paxil years lost effectiveness within week still found replacement', 'took help sleep brain surgery stop seizures others side effect possibly causing seizure took one one bad side effect alone depressed made depression worse take depressed glad son phoned', 'generic brand walmart much cheaper products worked better name brand gas', 'though never clinically depressed discovered powerful side effect tramadol taking day chronic sciatica unrelenting pain real downer tramadol reliably helped maintain optimistic upbeat attitude five years taking never increase dosage desired effect downside often interfered sleep found midday nap essential', 'excellent results cymbalta mg night burning pain reduced generate dreams uncomfortable dreams first medicine helped side effects great neurontin felt little effect lyrica', 'zestril originally since reduced mg past years pressure stabilised years last years started chronic dry irritating coughs year problems erection libido zestril medicine take', 'received taxol along cisplatin every weeks total treatments recognize numbness feet side effect winter time feet frequently feel winter far post post chemo tests negative problems chemo treatments', 'long taking adderall gave wretched migraines however able get adderall quit smoking without weight gain tiredness wellbutrin gives insomnia take later take give headaches dehydrated worth desire smoke simply evaporated get rush cigarette temptation like magic makes happy alert suppresses appetite around miracle drug love wellbutrin', 'zolpidem work fast however right arm goes sleep easily take zolpidem make sure fall asleep position cut circulation arm', 'years old originally started depression amp anxiety panic attacks started medication years old yes long medication severely addictive banned feel hard get tried many times get brain zaps sweats panic attacks hot flushes dizziness paranoia tiredness anger honest first couple years felt miracle drug confined bedroom home started taking help move place years tried get process get bad paranoid kids around thank god helping take buspirone slowly coming paroxetine feel better support', 'medicine works recommend everyone hiatus hernia tell like never pain', 'taken adderall yrs first best problems solved higher concentration longer attention span lower appetite sociable awesome years side effects caught increased sweating higher pulse rate higher blood pressure lower quality sleep dazed shoulder muscles tense time almost painful prescribed mg day used great take sleep quality suffers point zombie next day take feel normal sleep next night take completely useless days therefore stop taking', 'opana mg take away neck amp back pain function however also first time life gives headaches hot flashes warm blooded days amp slightly edgeydifficulty stressadversity sometimes', 'enjoy convenience ring ever since put ring days ago constant headache extremely emotional fatigued going give little longer like said convenient feel', 'years cymbalta cannot say enough effectiveness really speak claims pain relief far depression anxiety best recommend insurance tried several times get prescribe celexa effexor neither work like cymbalta initially little spacy jittery went away time hate pay overall rather take anything switch', 'thought going die taking ciprofloxacin diverticulitis shortly taking would become increasingly warm cheeks bright red intense chest pain short breath taken medication twice recall side effect levaquin made agitated made sure separate meds hour see one fact giving problem yikes'], 'input_ids': tensor([[  101,  2499,  2307,  ...,     0,     0,     0],\n",
            "        [  101,  2165,  2393,  ...,     0,     0,     0],\n",
            "        [  101, 12391,  4435,  ...,     0,     0,     0],\n",
            "        ...,\n",
            "        [  101,  5959, 15106,  ...,     0,     0,     0],\n",
            "        [  101,  2086, 22330,  ...,     0,     0,     0],\n",
            "        [  101,  2245,  2183,  ...,     0,     0,     0]]), 'attention_mask': tensor([[1, 1, 1,  ..., 0, 0, 0],\n",
            "        [1, 1, 1,  ..., 0, 0, 0],\n",
            "        [1, 1, 1,  ..., 0, 0, 0],\n",
            "        ...,\n",
            "        [1, 1, 1,  ..., 0, 0, 0],\n",
            "        [1, 1, 1,  ..., 0, 0, 0],\n",
            "        [1, 1, 1,  ..., 0, 0, 0]]), 'rating': tensor([ 6.,  6.,  2.,  9., 10.,  7.,  7., 10.,  5.,  2., 10.,  6.,  7.,  5.,\n",
            "        10.,  1.])}\n"
          ]
        }
      ],
      "source": [
        "for data in train_loader:\n",
        "    print(data)\n",
        "    break"
      ]
    },
    {
      "cell_type": "code",
      "execution_count": null,
      "metadata": {
        "colab": {
          "base_uri": "https://localhost:8080/",
          "height": 84,
          "referenced_widgets": [
            "a438660e7a2f4762925242642236a008",
            "d6e0cd93c2894a0b812f17be6234ed7f",
            "8cb6aaad0694450e8d2d2c7c606de394",
            "e1cb683159594c8fabc37ecb0404126b",
            "1c9d71cc6710425196b9d716500de4c7",
            "a936b5efd55d43c7a84d19cb0455d956",
            "559a6392e6624ea3a654f99f0473705e",
            "20277397fdf449e59289c537a05cb56b",
            "0a55bef6a1eb4a668b2509aef1540ffe",
            "015f4e118e5946089e51c11ddf21023d",
            "2778716bfcd648be848ec08a8aacc4ee"
          ]
        },
        "id": "MEcS4GSEnrXL",
        "outputId": "1aa79554-73b1-4b54-a0e2-4cd161bddacf"
      },
      "outputs": [
        {
          "output_type": "display_data",
          "data": {
            "text/plain": [
              "model.safetensors:   0%|          | 0.00/440M [00:00<?, ?B/s]"
            ],
            "application/vnd.jupyter.widget-view+json": {
              "version_major": 2,
              "version_minor": 0,
              "model_id": "a438660e7a2f4762925242642236a008"
            }
          },
          "metadata": {}
        },
        {
          "output_type": "stream",
          "name": "stderr",
          "text": [
            "Some weights of BertForSequenceClassification were not initialized from the model checkpoint at bert-base-uncased and are newly initialized: ['classifier.bias', 'classifier.weight']\n",
            "You should probably TRAIN this model on a down-stream task to be able to use it for predictions and inference.\n"
          ]
        }
      ],
      "source": [
        "model = BertForSequenceClassification.from_pretrained('bert-base-uncased', num_labels=1)\n",
        "model = model.to(device)"
      ]
    },
    {
      "cell_type": "code",
      "execution_count": null,
      "metadata": {
        "id": "yAfAQc_8ny3s",
        "colab": {
          "base_uri": "https://localhost:8080/"
        },
        "outputId": "053f2825-be08-4b89-f02b-ebd7dd6f6f59"
      },
      "outputs": [
        {
          "output_type": "stream",
          "name": "stderr",
          "text": [
            "/usr/local/lib/python3.10/dist-packages/transformers/optimization.py:588: FutureWarning: This implementation of AdamW is deprecated and will be removed in a future version. Use the PyTorch implementation torch.optim.AdamW instead, or set `no_deprecation_warning=True` to disable this warning\n",
            "  warnings.warn(\n"
          ]
        }
      ],
      "source": [
        "optimizer = AdamW(model.parameters(), lr=2e-5, correct_bias=False)"
      ]
    },
    {
      "cell_type": "code",
      "execution_count": null,
      "metadata": {
        "id": "4gSAlTRfqKCC"
      },
      "outputs": [],
      "source": [
        "loss_fn = nn.MSELoss().to(device)"
      ]
    },
    {
      "cell_type": "code",
      "execution_count": null,
      "metadata": {
        "id": "7j7mLZX0n2Ff"
      },
      "outputs": [],
      "source": [
        "def train_epoch(model, data_loader, optimizer, device, scheduler, n_examples):\n",
        "    model = model.train()\n",
        "    losses = []\n",
        "    correct_predictions = 0\n",
        "\n",
        "    for d in data_loader:\n",
        "        input_ids = d[\"input_ids\"].to(device)\n",
        "        attention_mask = d[\"attention_mask\"].to(device)\n",
        "        ratings = d[\"rating\"].to(device)\n",
        "\n",
        "        outputs = model(\n",
        "            input_ids=input_ids,\n",
        "            attention_mask=attention_mask\n",
        "        )\n",
        "\n",
        "        loss = loss_fn(outputs.logits.squeeze(), ratings)\n",
        "        correct_predictions += torch.sum(torch.abs(outputs.logits.squeeze() - ratings) < 1).item()\n",
        "        losses.append(loss.item())\n",
        "\n",
        "        loss.backward()\n",
        "        optimizer.step()\n",
        "        optimizer.zero_grad()\n",
        "\n",
        "    return correct_predictions / n_examples, np.mean(losses)"
      ]
    },
    {
      "cell_type": "code",
      "execution_count": null,
      "metadata": {
        "id": "DkAIfmWQn6fY"
      },
      "outputs": [],
      "source": [
        "def eval_model(model, data_loader, device, n_examples):\n",
        "    model = model.eval()\n",
        "    losses = []\n",
        "    correct_predictions = 0\n",
        "\n",
        "    with torch.no_grad():\n",
        "        for d in data_loader:\n",
        "            input_ids = d[\"input_ids\"].to(device)\n",
        "            attention_mask = d[\"attention_mask\"].to(device)\n",
        "            ratings = d[\"rating\"].to(device)\n",
        "\n",
        "            outputs = model(\n",
        "                input_ids=input_ids,\n",
        "                attention_mask=attention_mask\n",
        "            )\n",
        "\n",
        "            loss = loss_fn(outputs.logits.squeeze(), ratings)\n",
        "            correct_predictions += torch.sum(torch.abs(outputs.logits.squeeze() - ratings) < 1).item()\n",
        "            losses.append(loss.item())\n",
        "\n",
        "    return correct_predictions / n_examples, np.mean(losses)"
      ]
    },
    {
      "cell_type": "code",
      "execution_count": null,
      "metadata": {
        "colab": {
          "base_uri": "https://localhost:8080/"
        },
        "id": "w-K92EIon-ar",
        "outputId": "01d7ac17-c03d-47dc-b263-c55938d25ecf"
      },
      "outputs": [
        {
          "output_type": "stream",
          "name": "stdout",
          "text": [
            "Epoch 1/10\n",
            "----------\n",
            "Train loss 10.470682071801573 accuracy 0.1848\n",
            "Val loss 8.125630957739693 accuracy 0.255\n",
            "Epoch 2/10\n",
            "----------\n",
            "Train loss 5.992954410303134 accuracy 0.3354\n",
            "Val loss 7.700351597770812 accuracy 0.34\n",
            "Epoch 3/10\n",
            "----------\n",
            "Train loss 4.244323775410272 accuracy 0.4572\n",
            "Val loss 7.779035530393085 accuracy 0.436\n",
            "Epoch 4/10\n",
            "----------\n",
            "Train loss 2.975202125482285 accuracy 0.56\n",
            "Val loss 7.440749079462082 accuracy 0.475\n",
            "Epoch 5/10\n",
            "----------\n",
            "Train loss 2.151274811155118 accuracy 0.6198\n",
            "Val loss 7.809337886552962 accuracy 0.489\n",
            "Epoch 6/10\n",
            "----------\n",
            "Train loss 1.5911435863842218 accuracy 0.6834\n",
            "Val loss 7.9373312791188555 accuracy 0.505\n",
            "Epoch 7/10\n",
            "----------\n",
            "Train loss 1.2211042804935108 accuracy 0.7424\n",
            "Val loss 7.350278222371662 accuracy 0.47\n",
            "Epoch 8/10\n",
            "----------\n",
            "Train loss 1.024901831016754 accuracy 0.777\n",
            "Val loss 7.517653228744628 accuracy 0.499\n",
            "Epoch 9/10\n",
            "----------\n",
            "Train loss 0.8294546997870881 accuracy 0.8048\n",
            "Val loss 8.418040400459653 accuracy 0.535\n",
            "Epoch 10/10\n",
            "----------\n",
            "Train loss 0.6857041695628303 accuracy 0.837\n",
            "Val loss 7.620309053905427 accuracy 0.436\n"
          ]
        }
      ],
      "source": [
        "EPOCHS = 10\n",
        "\n",
        "for epoch in range(EPOCHS):\n",
        "    print(f'Epoch {epoch + 1}/{EPOCHS}')\n",
        "    print('-' * 10)\n",
        "\n",
        "    train_acc, train_loss = train_epoch(\n",
        "        model,\n",
        "        train_loader,\n",
        "        optimizer,\n",
        "        device,\n",
        "        scheduler=None,\n",
        "        n_examples=len(X_train)\n",
        "    )\n",
        "\n",
        "    print(f'Train loss {train_loss} accuracy {train_acc}')\n",
        "\n",
        "    val_acc, val_loss = eval_model(\n",
        "        model,\n",
        "        val_loader,\n",
        "        device,\n",
        "        n_examples=len(X_val)\n",
        "    )\n",
        "\n",
        "    print(f'Val loss {val_loss} accuracy {val_acc}')"
      ]
    },
    {
      "cell_type": "markdown",
      "source": [
        "# **Тематическое моделирование и кластеризация текстов**"
      ],
      "metadata": {
        "id": "SCkpn_KnNeNU"
      }
    },
    {
      "cell_type": "markdown",
      "source": [
        "Выполним тематическое моделирование и кластеризацию текстов из датасета с использованием LDA и KMeans:\n",
        "- Загрузим необходимые библиотеки\n",
        "- Преобразуем текст в TF-IDF представление\n",
        "- Моделирование с помощью LDA\n",
        "- Преобразовуем TF-IDF матрицы в тематические распределения\n",
        "- Кластеризуем документы на основе тематических распределений\n",
        "- Выведем ключевые слова для каждой из тем, выделенных моделью LDA\n",
        "- Выведем примеры документов для каждого из кластеров: первые 200 символов из случайно выбранных 5 документов для каждого кластера."
      ],
      "metadata": {
        "id": "n0BS2mfvQfiz"
      }
    },
    {
      "cell_type": "code",
      "source": [
        "from sklearn.feature_extraction.text import TfidfVectorizer\n",
        "from sklearn.decomposition import LatentDirichletAllocation\n",
        "from sklearn.cluster import KMeans\n",
        "\n",
        "vectorizer = TfidfVectorizer(max_df=0.95, min_df=2, stop_words='english')\n",
        "tfidf = vectorizer.fit_transform(train_df['cleaned_review'])\n",
        "\n",
        "lda = LatentDirichletAllocation(n_components=10, random_state=42)\n",
        "lda.fit(tfidf)\n",
        "\n",
        "lda_features = lda.transform(tfidf)\n",
        "kmeans = KMeans(n_clusters=10, random_state=42)\n",
        "clusters = kmeans.fit_predict(lda_features)\n",
        "\n",
        "train_df['cluster'] = clusters"
      ],
      "metadata": {
        "colab": {
          "base_uri": "https://localhost:8080/"
        },
        "id": "QBz2JQfuNfo1",
        "outputId": "17bc483b-bd3a-4366-efa1-6acc7e9f5a54"
      },
      "execution_count": null,
      "outputs": [
        {
          "output_type": "stream",
          "name": "stderr",
          "text": [
            "/usr/local/lib/python3.10/dist-packages/sklearn/cluster/_kmeans.py:870: FutureWarning: The default value of `n_init` will change from 10 to 'auto' in 1.4. Set the value of `n_init` explicitly to suppress the warning\n",
            "  warnings.warn(\n"
          ]
        }
      ]
    },
    {
      "cell_type": "code",
      "source": [
        "def print_top_words(model, feature_names, n_top_words):\n",
        "    for topic_idx, topic in enumerate(model.components_):\n",
        "        print(f\"Topic #{topic_idx}:\")\n",
        "        print(\" \".join([feature_names[i] for i in topic.argsort()[:-n_top_words - 1:-1]]))\n",
        "    print()\n",
        "\n",
        "n_top_words = 10\n",
        "tf_feature_names = vectorizer.get_feature_names_out()\n",
        "print_top_words(lda, tf_feature_names, n_top_words)"
      ],
      "metadata": {
        "colab": {
          "base_uri": "https://localhost:8080/"
        },
        "id": "VPgjGKYsQPyQ",
        "outputId": "47894b5c-fd30-4f5a-dda9-ff5a04df1deb"
      },
      "execution_count": null,
      "outputs": [
        {
          "output_type": "stream",
          "name": "stdout",
          "text": [
            "Topic #0:\n",
            "skin acne face using product use clear dry used cream\n",
            "Topic #1:\n",
            "pain works years great medicine relief effects mg day worked\n",
            "Topic #2:\n",
            "good seizures seizure keppra years excellent effects medicine treatment liver\n",
            "Topic #3:\n",
            "day smoking chantix burning itching quit took yeast smoke days\n",
            "Topic #4:\n",
            "anxiety life depression panic years attacks feel lexapro effects mg\n",
            "Topic #5:\n",
            "lbs weight lost blood pounds started effects pressure taking week\n",
            "Topic #6:\n",
            "years life drug insurance migraines suboxone medication day migraine taking\n",
            "Topic #7:\n",
            "sleep mg anxiety feel taking day night depression effects like\n",
            "Topic #8:\n",
            "pain day took days stomach taking infection hours diarrhea nausea\n",
            "Topic #9:\n",
            "period pill birth control months periods bleeding month weight got\n",
            "\n"
          ]
        }
      ]
    },
    {
      "cell_type": "code",
      "source": [
        "for cluster in range(10):\n",
        "    print(f\"Cluster {cluster}:\")\n",
        "    cluster_docs = train_df[train_df['cluster'] == cluster]['cleaned_review'].sample(5)\n",
        "    for doc in cluster_docs:\n",
        "        print(f\"- {doc[:200]}...\")\n",
        "    print()"
      ],
      "metadata": {
        "colab": {
          "base_uri": "https://localhost:8080/"
        },
        "id": "bchHMM_8QWrq",
        "outputId": "ec39585d-1177-4a01-f6b7-b012232f91aa"
      },
      "execution_count": null,
      "outputs": [
        {
          "output_type": "stream",
          "name": "stdout",
          "text": [
            "Cluster 0:\n",
            "- journey started around yrs ago pregnant suffered episode put hospital son due gave mg straight clomipramine imagine comatosed next years many crashes drug years ago prescribed paxil best thing could e...\n",
            "- research taking consult doctor also aware side effects involved symptoms include dizziness fatigue muscle weakness slowed speech muscle spasms twitching fidgeting nightmares everyone...\n",
            "- started capsule oct th weight days phentermine lbs pill works immediately first day felt energy without feeling jittery took take later keep night take early typically fine feel little wired bed take ...\n",
            "- diagnosed bipolar manifestations depression mostly problems mania started mg night week went morning night doses mg days day time doses made feel restless uncomfortable edgy weird sedated stand would ...\n",
            "- tried lot different medications anxiety nothing ever worked prescribed atarax going stressful times something nothing ever helped paxil lexapro effexor zoloft know lot different ones spread many years...\n",
            "\n",
            "Cluster 1:\n",
            "- took mg four day days cellulitis still pink ozing trying doxycyline days...\n",
            "- bipolar disorder psychotic depressive features diagnosis adhd take meds three conditions take vyvanse mg wares take evekeo twice every hours also take stimulants ativan also anxiety evekeo perfect mak...\n",
            "- olysio combination sovaldi cleared genotype hcv three weeks...\n",
            "- search find doctor willing prescribe excepted malpractice insurance policies doctors afraid might get sued something bad happens much better adderall joke cheaper side effects either going medicine ab...\n",
            "- dilantin years works...\n",
            "\n",
            "Cluster 2:\n",
            "- junel getting period month full days birth control regulated period month really light maybe full days major side effects besides first month two always hungry craving junk food month four back regula...\n",
            "- birth control three four months doctor prescribed getting point sexually active frequently said one good pregnancy prevention least downsides medication makes prone panic attacks mood swings depressed...\n",
            "- month december week half pill noticed pink discharge turned week two spotting slight headaches know pill getting used skin went flawless pimples pretty angry doctor wants give month two hopefully skin...\n",
            "- pros think birth control anymore periods much lighter much less painful fewer yeast infections less severe pms symptoms consnear constant spotting use blood pressure cuff arm implant...\n",
            "- skeptic pills bad experiences bleeding weight gain etc periods started get extremely heavy would last weeks due cysts started microgestin great acne actually lost weight supresses appetite nothing bad...\n",
            "\n",
            "Cluster 3:\n",
            "- started using years ago pain foot torn tendon using severe low back pain really works sticks fine long smooth tape well also patches cut use various places save money highly recommend...\n",
            "- morphine sulfate switched opana every hours able move around outside without fear falling able fishing years morphine could morphine allowed small garden opana manage remember water pick fruit veggies...\n",
            "- best thing acute panic attack nothing works faster make sure follow doctor guidelines actually less use better works...\n",
            "- prescribed tramadol past years completly relieved back pain stopped times pain returned initially took mg tablets day need mg day get relief feeling euphoria anxiety side effects st year gone get pain...\n",
            "- started pramipexole hydrochloride years ago first suffered jerking time head would always jerk left shoulders would jerk legs shook time stood still sat recommended dosage effect rls slowly dose raise...\n",
            "\n",
            "Cluster 4:\n",
            "- years taking medicine lead hair thinning severely full body muscle pain weakness side effect possible stroke works get rid migraine happens take long term...\n",
            "- saxenda week lost lbs experience nausea times however requested script zofran combat side effect tried several weight loss medications unsuccessfully including phentermine belviq contrave saxenda feel...\n",
            "- started taking cymbalta last resort radicular sciatica pain surgery tried many medicines cymbalta mos days days weeks days days experienced side effects nausea lethargy somnolence sleeping hrs day wks...\n",
            "- weeks although gave energy first week subsided appetite comes goes lost pounds weeks believe new exercising always drank ton water love water change dry mouth tend weighed lbs goal lbs like curves man...\n",
            "- went asked starting adipex extremely unhappy stepped scale days realized weighed never big quot started taking medicine walking every day least mile walking led jogging crunches still sweet tooth like...\n",
            "\n",
            "Cluster 5:\n",
            "- taking gleevec year first tired taking multivitamin notice skin coloring changed concerned brown skin woman skin lighten much wearing makeup light skin women days little color look almost white doctor...\n",
            "- try product follow directions worked lived first yrs life quotpitted outquot used regularly one year still sweat exertion consider normal mostly use deodorant products used product sold thru pharmacy ...\n",
            "- dealing cold sores past years usually would get per year extreme weather change tried abreva releev campho etc nothing really worked accept drying area well fall winter season outbreaks rd said enough...\n",
            "- prescribed long term dry flaky skin face completely cleared skin first application side effects...\n",
            "- yes ouch took first one around midday took five hours kick say take back rating give working well forgot even period thing kind burned stomach made pain doubly worse stopping completely...\n",
            "\n",
            "Cluster 6:\n",
            "- using inject close twenty years suffer thyroid problems currently treaded pills also goiter fibromyaliga rha osteo tested kupus almost yes sure panic disorder chronic several minor thing body daily pa...\n",
            "- well started taking strattera around weeks back adhd since child ritilin couple ones young remember name two took meds old enough leave school looking people describing children symptoms bringing back...\n",
            "- humatrope first started used read started taking daily shots time years old quot lbs zero growth hormone body stood without treatment appeared would never hit puberty began taking daily shots every da...\n",
            "- amazing effects hrs effective penis remains hard herpes positive trigger herpes hrsthis big issue...\n",
            "- omg take long years doctor prescribe amazing medicine day days wait almost week without valium zanax feel great like devil left slave benzo driving around sunday night trying get soon script filled sa...\n",
            "\n",
            "Cluster 7:\n",
            "- suffering polar since diagnosed teen almost spent better part years unmedicated lot therapies however well managing quottoolsquot given years began exhibit signs ocd anxiety bed fellows bipolar anxiet...\n",
            "- belviq weeks wanted much work endured dizziness extreme fatigue foggy brain memory problems even increase irregular heart beat hoping would decrease belviq would work experienced improvement appetite ...\n",
            "- dealing severe panic disorder months really try many medications say pristiq best taking weeks feel much better although times sleeping great benefits weigh happy pristiq...\n",
            "- bad experiences medicine since started taking pleased working well...\n",
            "- agree one best treatments fibromyalgia trick get st couple weeks told weeks body adjusting norepinephrine nausea temporary problem mine went away nd week took couple weeks start feeling pain relief st...\n",
            "\n",
            "Cluster 8:\n",
            "- first couple days worked okay headache pretty moody okay loved remember pill every day feel first however around day got yeast infection hell nuvaring one yeast infection whole life monistat cleared w...\n",
            "- postmenopausal started using estrace cream yesterday health issues licken sclerosis bothersome cream almost instantly increased libido relieved dryness prescribed gram intravaginally twice weekly hope...\n",
            "- never done drug review life literally want people know horrible started getting symptoms wanted take easy way got day cream within seconds inserting cream vagina burning severely tried wait see would ...\n",
            "- looked online lots reviews monistat used past every time horrible burning irritation right applying worse yeast infection took hours able sleep...\n",
            "- never posted review wanted let people know afraid take need one always googles medicine reviews scared half death horrible reviews antibiotic worried almost take well glad took away uti going kidneys ...\n",
            "\n",
            "Cluster 9:\n",
            "- amazed fast worked sciatic back pain nothing helping took away almost pain meds usually upset stomach long ate small snack...\n",
            "- initially given amoxicillin uti days still fever cloudy urine overall blahs went back given cipro wowless hours later fever gone urine clear headache know cipro sleeping much list side effects bit sca...\n",
            "- stomach bowel movement issues since tried everything reflexology acupuncture medicines drank mineral oil years took one pill hours actually bowel movement several follow next hours weighed next day lo...\n",
            "- morning sickness started around weeks week vomiting times day ended hospital due dehydration given zofran minute wore would sick going hospital every days zofran started diclegis world got better stil...\n",
            "- hep nearly years always tired got point could work hours day started epclusa may first headaches nausea viral free last blood test august energy gastritis felt well two months problem taking nexium li...\n",
            "\n"
          ]
        }
      ]
    },
    {
      "cell_type": "markdown",
      "source": [
        "# **Дистилляция трансформера в LSTM**"
      ],
      "metadata": {
        "id": "WH2WII1xQx_Z"
      }
    },
    {
      "cell_type": "markdown",
      "source": [
        "Для дистилляции трансформера в LSTM потребуется создать более простую модель и обучить её на предсказаниях сложной модели:\n",
        "- Определим класс LSTMModel\n",
        "- Определеним параметров модели и процесса обучения\n",
        "- Созданим экземпляр модели\n",
        "- Определим функцию потерь и оптимизатора\n",
        "- Определим функцию для создания пакетов данных\n",
        "- Определим функцию для обучения модели\n",
        "- Подготовка данных для модели\n",
        "- Непосрественно само обучение модели\n",
        "\n",
        "С этим разделом задачи я до конца не разобрался - прошу по возможности (при условии что все остальное выполнено верно) зачесть ДЗ без него."
      ],
      "metadata": {
        "id": "zlZxeE79QyzY"
      }
    },
    {
      "cell_type": "code",
      "source": [
        "import torch\n",
        "import torch.nn as nn\n",
        "import torch.optim as optim\n",
        "import numpy as np\n",
        "\n",
        "class LSTMModel(nn.Module):\n",
        "    def __init__(self, input_dim, hidden_dim, output_dim, n_layers):\n",
        "        super(LSTMModel, self).__init__()\n",
        "        self.lstm = nn.LSTM(input_dim, hidden_dim, n_layers, batch_first=True)\n",
        "        self.fc = nn.Linear(hidden_dim, output_dim)\n",
        "\n",
        "    def forward(self, x):\n",
        "        h0 = torch.zeros(self.lstm.num_layers, x.size(0), self.lstm.hidden_size).to(x.device)\n",
        "        c0 = torch.zeros(self.lstm.num_layers, x.size(0), self.lstm.hidden_size).to(x.device)\n",
        "        out, _ = self.lstm(x, (h0, c0))\n",
        "        out = self.fc(out[:, -1, :])\n",
        "        return out"
      ],
      "metadata": {
        "id": "AOhE1d87Hmja"
      },
      "execution_count": null,
      "outputs": []
    },
    {
      "cell_type": "code",
      "source": [
        "input_dim = 768\n",
        "hidden_dim = 128\n",
        "output_dim = 1\n",
        "n_layers = 2"
      ],
      "metadata": {
        "id": "QV03xNmAISAU"
      },
      "execution_count": null,
      "outputs": []
    },
    {
      "cell_type": "code",
      "source": [
        "lstm_model = LSTMModel(input_dim, hidden_dim, output_dim, n_layers)\n",
        "lstm_model = lstm_model.to(device)"
      ],
      "metadata": {
        "id": "vpH2139uISIM"
      },
      "execution_count": null,
      "outputs": []
    },
    {
      "cell_type": "code",
      "source": [
        "criterion = nn.MSELoss().to(device)\n",
        "optimizer = optim.Adam(lstm_model.parameters(), lr=0.001)"
      ],
      "metadata": {
        "id": "ZZhWX8MfISLh"
      },
      "execution_count": null,
      "outputs": []
    },
    {
      "cell_type": "code",
      "source": [
        "def create_batches(data, batch_size):\n",
        "    batches = []\n",
        "    for i in range(0, len(data), batch_size):\n",
        "        batch = data[i:i+batch_size]\n",
        "        inputs, targets = zip(*batch)\n",
        "\n",
        "        inputs = np.array([np.array(inp) for inp in inputs])\n",
        "        targets = np.array(targets)\n",
        "\n",
        "        print(f\"Batch {i//batch_size + 1}:\")\n",
        "        print(f\"inputs shape after conversion: {inputs.shape}\")\n",
        "        print(f\"targets shape after conversion: {targets.shape}\")\n",
        "\n",
        "        inputs = torch.tensor(inputs).float()\n",
        "        targets = torch.tensor(targets).float()\n",
        "\n",
        "        batches.append((inputs, targets))\n",
        "    return batches"
      ],
      "metadata": {
        "id": "GfnBgrATISOn"
      },
      "execution_count": null,
      "outputs": []
    },
    {
      "cell_type": "code",
      "source": [
        "def train_lstm_model(model, train_data, val_data, criterion, optimizer, num_epochs=10, batch_size=32):\n",
        "    for epoch in range(num_epochs):\n",
        "        model.train()\n",
        "        train_loss = 0.0\n",
        "\n",
        "        train_batches = create_batches(train_data, batch_size)\n",
        "\n",
        "        for inputs, targets in train_batches:\n",
        "            inputs = inputs.to(device)\n",
        "            targets = targets.to(device)\n",
        "\n",
        "            optimizer.zero_grad()\n",
        "            outputs = model(inputs)\n",
        "            loss = criterion(outputs, targets.unsqueeze(1))\n",
        "            loss.backward()\n",
        "            optimizer.step()\n",
        "\n",
        "            train_loss += loss.item()\n",
        "\n",
        "        model.eval()\n",
        "        val_loss = 0.0\n",
        "        val_batches = create_batches(val_data, batch_size)\n",
        "        with torch.no_grad():\n",
        "            for inputs, targets in val_batches:\n",
        "                inputs = inputs.to(device)\n",
        "                targets = targets.to(device)\n",
        "\n",
        "                outputs = model(inputs)\n",
        "                loss = criterion(outputs, targets.unsqueeze(1))\n",
        "\n",
        "                val_loss += loss.item()\n",
        "\n",
        "        print(f\"Epoch [{epoch+1}/{num_epochs}], Train Loss: {train_loss / len(train_batches):.4f}, Val Loss: {val_loss / len(val_batches):.4f}\")\n"
      ],
      "metadata": {
        "id": "Ej5g0HK4ISRu"
      },
      "execution_count": null,
      "outputs": []
    },
    {
      "cell_type": "code",
      "source": [
        "train_lstm_data = prepare_lstm_data(train_loader, model, device)\n",
        "val_lstm_data = prepare_lstm_data(val_loader, model, device)"
      ],
      "metadata": {
        "id": "ixlE59FFISU2"
      },
      "execution_count": null,
      "outputs": []
    },
    {
      "cell_type": "code",
      "source": [
        "train_lstm_model(lstm_model, train_lstm_data, val_lstm_data, criterion, optimizer, num_epochs=10)"
      ],
      "metadata": {
        "colab": {
          "base_uri": "https://localhost:8080/",
          "height": 773
        },
        "id": "hR2Xf4ADIcui",
        "outputId": "53bd60e7-0fcd-4a27-9b06-3e3dd436647a"
      },
      "execution_count": null,
      "outputs": [
        {
          "output_type": "stream",
          "name": "stdout",
          "text": [
            "Batch 1:\n",
            "inputs shape after conversion: (32, 16, 1)\n",
            "targets shape after conversion: (32, 16)\n",
            "Batch 2:\n",
            "inputs shape after conversion: (32, 16, 1)\n",
            "targets shape after conversion: (32, 16)\n",
            "Batch 3:\n",
            "inputs shape after conversion: (32, 16, 1)\n",
            "targets shape after conversion: (32, 16)\n",
            "Batch 4:\n",
            "inputs shape after conversion: (32, 16, 1)\n",
            "targets shape after conversion: (32, 16)\n",
            "Batch 5:\n",
            "inputs shape after conversion: (32, 16, 1)\n",
            "targets shape after conversion: (32, 16)\n",
            "Batch 6:\n",
            "inputs shape after conversion: (32, 16, 1)\n",
            "targets shape after conversion: (32, 16)\n",
            "Batch 7:\n",
            "inputs shape after conversion: (32, 16, 1)\n",
            "targets shape after conversion: (32, 16)\n",
            "Batch 8:\n",
            "inputs shape after conversion: (32, 16, 1)\n",
            "targets shape after conversion: (32, 16)\n",
            "Batch 9:\n",
            "inputs shape after conversion: (32, 16, 1)\n",
            "targets shape after conversion: (32, 16)\n"
          ]
        },
        {
          "output_type": "error",
          "ename": "ValueError",
          "evalue": "setting an array element with a sequence. The requested array has an inhomogeneous shape after 1 dimensions. The detected shape was (25,) + inhomogeneous part.",
          "traceback": [
            "\u001b[0;31m---------------------------------------------------------------------------\u001b[0m",
            "\u001b[0;31mValueError\u001b[0m                                Traceback (most recent call last)",
            "\u001b[0;32m<ipython-input-85-370926cc4116>\u001b[0m in \u001b[0;36m<cell line: 2>\u001b[0;34m()\u001b[0m\n\u001b[1;32m      1\u001b[0m \u001b[0;31m# Обучение LSTM модели\u001b[0m\u001b[0;34m\u001b[0m\u001b[0;34m\u001b[0m\u001b[0m\n\u001b[0;32m----> 2\u001b[0;31m \u001b[0mtrain_lstm_model\u001b[0m\u001b[0;34m(\u001b[0m\u001b[0mlstm_model\u001b[0m\u001b[0;34m,\u001b[0m \u001b[0mtrain_lstm_data\u001b[0m\u001b[0;34m,\u001b[0m \u001b[0mval_lstm_data\u001b[0m\u001b[0;34m,\u001b[0m \u001b[0mcriterion\u001b[0m\u001b[0;34m,\u001b[0m \u001b[0moptimizer\u001b[0m\u001b[0;34m,\u001b[0m \u001b[0mnum_epochs\u001b[0m\u001b[0;34m=\u001b[0m\u001b[0;36m10\u001b[0m\u001b[0;34m)\u001b[0m\u001b[0;34m\u001b[0m\u001b[0;34m\u001b[0m\u001b[0m\n\u001b[0m",
            "\u001b[0;32m<ipython-input-83-e3b250e6def2>\u001b[0m in \u001b[0;36mtrain_lstm_model\u001b[0;34m(model, train_data, val_data, criterion, optimizer, num_epochs, batch_size)\u001b[0m\n\u001b[1;32m      6\u001b[0m \u001b[0;34m\u001b[0m\u001b[0m\n\u001b[1;32m      7\u001b[0m         \u001b[0;31m# Создание пакетов данных для обучения\u001b[0m\u001b[0;34m\u001b[0m\u001b[0;34m\u001b[0m\u001b[0m\n\u001b[0;32m----> 8\u001b[0;31m         \u001b[0mtrain_batches\u001b[0m \u001b[0;34m=\u001b[0m \u001b[0mcreate_batches\u001b[0m\u001b[0;34m(\u001b[0m\u001b[0mtrain_data\u001b[0m\u001b[0;34m,\u001b[0m \u001b[0mbatch_size\u001b[0m\u001b[0;34m)\u001b[0m\u001b[0;34m\u001b[0m\u001b[0;34m\u001b[0m\u001b[0m\n\u001b[0m\u001b[1;32m      9\u001b[0m \u001b[0;34m\u001b[0m\u001b[0m\n\u001b[1;32m     10\u001b[0m         \u001b[0;31m# Обучение на тренировочных данных\u001b[0m\u001b[0;34m\u001b[0m\u001b[0;34m\u001b[0m\u001b[0m\n",
            "\u001b[0;32m<ipython-input-82-1ad9529377c7>\u001b[0m in \u001b[0;36mcreate_batches\u001b[0;34m(data, batch_size)\u001b[0m\n\u001b[1;32m      7\u001b[0m \u001b[0;34m\u001b[0m\u001b[0m\n\u001b[1;32m      8\u001b[0m         \u001b[0;31m# Преобразование списка numpy.ndarray в numpy.array и проверка формы\u001b[0m\u001b[0;34m\u001b[0m\u001b[0;34m\u001b[0m\u001b[0m\n\u001b[0;32m----> 9\u001b[0;31m         \u001b[0minputs\u001b[0m \u001b[0;34m=\u001b[0m \u001b[0mnp\u001b[0m\u001b[0;34m.\u001b[0m\u001b[0marray\u001b[0m\u001b[0;34m(\u001b[0m\u001b[0;34m[\u001b[0m\u001b[0mnp\u001b[0m\u001b[0;34m.\u001b[0m\u001b[0marray\u001b[0m\u001b[0;34m(\u001b[0m\u001b[0minp\u001b[0m\u001b[0;34m)\u001b[0m \u001b[0;32mfor\u001b[0m \u001b[0minp\u001b[0m \u001b[0;32min\u001b[0m \u001b[0minputs\u001b[0m\u001b[0;34m]\u001b[0m\u001b[0;34m)\u001b[0m\u001b[0;34m\u001b[0m\u001b[0;34m\u001b[0m\u001b[0m\n\u001b[0m\u001b[1;32m     10\u001b[0m         \u001b[0mtargets\u001b[0m \u001b[0;34m=\u001b[0m \u001b[0mnp\u001b[0m\u001b[0;34m.\u001b[0m\u001b[0marray\u001b[0m\u001b[0;34m(\u001b[0m\u001b[0mtargets\u001b[0m\u001b[0;34m)\u001b[0m\u001b[0;34m\u001b[0m\u001b[0;34m\u001b[0m\u001b[0m\n\u001b[1;32m     11\u001b[0m \u001b[0;34m\u001b[0m\u001b[0m\n",
            "\u001b[0;31mValueError\u001b[0m: setting an array element with a sequence. The requested array has an inhomogeneous shape after 1 dimensions. The detected shape was (25,) + inhomogeneous part."
          ]
        }
      ]
    },
    {
      "cell_type": "markdown",
      "source": [
        "Так и не смог разобраься в чем ошибка при обучении - понимаю что скорее всего при определении размерности выходных данных, но в чем именно и как исправить пока не могу определить.\n",
        "\n",
        "**С этим разделом задачи я до конца не разобрался - прошу по возможности (при условии что все остальное выполнено верно) зачесть ДЗ без него.**"
      ],
      "metadata": {
        "id": "ifpZXYPZMvro"
      }
    }
  ],
  "metadata": {
    "accelerator": "GPU",
    "colab": {
      "collapsed_sections": [
        "ezM859yBzPcd",
        "mCIDmP6O9tFa",
        "kFn3vLSdmAva",
        "SUeOquJkS6Wm",
        "AEk8HeT-nJsq",
        "SCkpn_KnNeNU"
      ],
      "gpuType": "T4",
      "provenance": []
    },
    "kernelspec": {
      "display_name": "Python 3",
      "name": "python3"
    },
    "language_info": {
      "name": "python"
    },
    "widgets": {
      "application/vnd.jupyter.widget-state+json": {
        "03dd490b09814ed2ae73920fa51e3a74": {
          "model_module": "@jupyter-widgets/controls",
          "model_name": "HBoxModel",
          "model_module_version": "1.5.0",
          "state": {
            "_dom_classes": [],
            "_model_module": "@jupyter-widgets/controls",
            "_model_module_version": "1.5.0",
            "_model_name": "HBoxModel",
            "_view_count": null,
            "_view_module": "@jupyter-widgets/controls",
            "_view_module_version": "1.5.0",
            "_view_name": "HBoxView",
            "box_style": "",
            "children": [
              "IPY_MODEL_14c78ec34bb84b43835aa97b98ca062f",
              "IPY_MODEL_3f80871d714143b88693d9c012492611",
              "IPY_MODEL_b1bced6932e844d48a6fc69d59be74d9"
            ],
            "layout": "IPY_MODEL_e81058241f154a54b8b691c93d4429f6"
          }
        },
        "14c78ec34bb84b43835aa97b98ca062f": {
          "model_module": "@jupyter-widgets/controls",
          "model_name": "HTMLModel",
          "model_module_version": "1.5.0",
          "state": {
            "_dom_classes": [],
            "_model_module": "@jupyter-widgets/controls",
            "_model_module_version": "1.5.0",
            "_model_name": "HTMLModel",
            "_view_count": null,
            "_view_module": "@jupyter-widgets/controls",
            "_view_module_version": "1.5.0",
            "_view_name": "HTMLView",
            "description": "",
            "description_tooltip": null,
            "layout": "IPY_MODEL_811269182e664bc7942d8f529b02e10a",
            "placeholder": "​",
            "style": "IPY_MODEL_ec8c5a0be5644031827fa954842c4855",
            "value": "tokenizer_config.json: 100%"
          }
        },
        "3f80871d714143b88693d9c012492611": {
          "model_module": "@jupyter-widgets/controls",
          "model_name": "FloatProgressModel",
          "model_module_version": "1.5.0",
          "state": {
            "_dom_classes": [],
            "_model_module": "@jupyter-widgets/controls",
            "_model_module_version": "1.5.0",
            "_model_name": "FloatProgressModel",
            "_view_count": null,
            "_view_module": "@jupyter-widgets/controls",
            "_view_module_version": "1.5.0",
            "_view_name": "ProgressView",
            "bar_style": "success",
            "description": "",
            "description_tooltip": null,
            "layout": "IPY_MODEL_c25d87cf9f724d63972dac4d46f63f65",
            "max": 48,
            "min": 0,
            "orientation": "horizontal",
            "style": "IPY_MODEL_56d3404704b141fcb1bfacf44571e39d",
            "value": 48
          }
        },
        "b1bced6932e844d48a6fc69d59be74d9": {
          "model_module": "@jupyter-widgets/controls",
          "model_name": "HTMLModel",
          "model_module_version": "1.5.0",
          "state": {
            "_dom_classes": [],
            "_model_module": "@jupyter-widgets/controls",
            "_model_module_version": "1.5.0",
            "_model_name": "HTMLModel",
            "_view_count": null,
            "_view_module": "@jupyter-widgets/controls",
            "_view_module_version": "1.5.0",
            "_view_name": "HTMLView",
            "description": "",
            "description_tooltip": null,
            "layout": "IPY_MODEL_641422001be64556afe06850191f9fae",
            "placeholder": "​",
            "style": "IPY_MODEL_d925103a8b8b4165860a0a9e8c4612fa",
            "value": " 48.0/48.0 [00:00&lt;00:00, 3.45kB/s]"
          }
        },
        "e81058241f154a54b8b691c93d4429f6": {
          "model_module": "@jupyter-widgets/base",
          "model_name": "LayoutModel",
          "model_module_version": "1.2.0",
          "state": {
            "_model_module": "@jupyter-widgets/base",
            "_model_module_version": "1.2.0",
            "_model_name": "LayoutModel",
            "_view_count": null,
            "_view_module": "@jupyter-widgets/base",
            "_view_module_version": "1.2.0",
            "_view_name": "LayoutView",
            "align_content": null,
            "align_items": null,
            "align_self": null,
            "border": null,
            "bottom": null,
            "display": null,
            "flex": null,
            "flex_flow": null,
            "grid_area": null,
            "grid_auto_columns": null,
            "grid_auto_flow": null,
            "grid_auto_rows": null,
            "grid_column": null,
            "grid_gap": null,
            "grid_row": null,
            "grid_template_areas": null,
            "grid_template_columns": null,
            "grid_template_rows": null,
            "height": null,
            "justify_content": null,
            "justify_items": null,
            "left": null,
            "margin": null,
            "max_height": null,
            "max_width": null,
            "min_height": null,
            "min_width": null,
            "object_fit": null,
            "object_position": null,
            "order": null,
            "overflow": null,
            "overflow_x": null,
            "overflow_y": null,
            "padding": null,
            "right": null,
            "top": null,
            "visibility": null,
            "width": null
          }
        },
        "811269182e664bc7942d8f529b02e10a": {
          "model_module": "@jupyter-widgets/base",
          "model_name": "LayoutModel",
          "model_module_version": "1.2.0",
          "state": {
            "_model_module": "@jupyter-widgets/base",
            "_model_module_version": "1.2.0",
            "_model_name": "LayoutModel",
            "_view_count": null,
            "_view_module": "@jupyter-widgets/base",
            "_view_module_version": "1.2.0",
            "_view_name": "LayoutView",
            "align_content": null,
            "align_items": null,
            "align_self": null,
            "border": null,
            "bottom": null,
            "display": null,
            "flex": null,
            "flex_flow": null,
            "grid_area": null,
            "grid_auto_columns": null,
            "grid_auto_flow": null,
            "grid_auto_rows": null,
            "grid_column": null,
            "grid_gap": null,
            "grid_row": null,
            "grid_template_areas": null,
            "grid_template_columns": null,
            "grid_template_rows": null,
            "height": null,
            "justify_content": null,
            "justify_items": null,
            "left": null,
            "margin": null,
            "max_height": null,
            "max_width": null,
            "min_height": null,
            "min_width": null,
            "object_fit": null,
            "object_position": null,
            "order": null,
            "overflow": null,
            "overflow_x": null,
            "overflow_y": null,
            "padding": null,
            "right": null,
            "top": null,
            "visibility": null,
            "width": null
          }
        },
        "ec8c5a0be5644031827fa954842c4855": {
          "model_module": "@jupyter-widgets/controls",
          "model_name": "DescriptionStyleModel",
          "model_module_version": "1.5.0",
          "state": {
            "_model_module": "@jupyter-widgets/controls",
            "_model_module_version": "1.5.0",
            "_model_name": "DescriptionStyleModel",
            "_view_count": null,
            "_view_module": "@jupyter-widgets/base",
            "_view_module_version": "1.2.0",
            "_view_name": "StyleView",
            "description_width": ""
          }
        },
        "c25d87cf9f724d63972dac4d46f63f65": {
          "model_module": "@jupyter-widgets/base",
          "model_name": "LayoutModel",
          "model_module_version": "1.2.0",
          "state": {
            "_model_module": "@jupyter-widgets/base",
            "_model_module_version": "1.2.0",
            "_model_name": "LayoutModel",
            "_view_count": null,
            "_view_module": "@jupyter-widgets/base",
            "_view_module_version": "1.2.0",
            "_view_name": "LayoutView",
            "align_content": null,
            "align_items": null,
            "align_self": null,
            "border": null,
            "bottom": null,
            "display": null,
            "flex": null,
            "flex_flow": null,
            "grid_area": null,
            "grid_auto_columns": null,
            "grid_auto_flow": null,
            "grid_auto_rows": null,
            "grid_column": null,
            "grid_gap": null,
            "grid_row": null,
            "grid_template_areas": null,
            "grid_template_columns": null,
            "grid_template_rows": null,
            "height": null,
            "justify_content": null,
            "justify_items": null,
            "left": null,
            "margin": null,
            "max_height": null,
            "max_width": null,
            "min_height": null,
            "min_width": null,
            "object_fit": null,
            "object_position": null,
            "order": null,
            "overflow": null,
            "overflow_x": null,
            "overflow_y": null,
            "padding": null,
            "right": null,
            "top": null,
            "visibility": null,
            "width": null
          }
        },
        "56d3404704b141fcb1bfacf44571e39d": {
          "model_module": "@jupyter-widgets/controls",
          "model_name": "ProgressStyleModel",
          "model_module_version": "1.5.0",
          "state": {
            "_model_module": "@jupyter-widgets/controls",
            "_model_module_version": "1.5.0",
            "_model_name": "ProgressStyleModel",
            "_view_count": null,
            "_view_module": "@jupyter-widgets/base",
            "_view_module_version": "1.2.0",
            "_view_name": "StyleView",
            "bar_color": null,
            "description_width": ""
          }
        },
        "641422001be64556afe06850191f9fae": {
          "model_module": "@jupyter-widgets/base",
          "model_name": "LayoutModel",
          "model_module_version": "1.2.0",
          "state": {
            "_model_module": "@jupyter-widgets/base",
            "_model_module_version": "1.2.0",
            "_model_name": "LayoutModel",
            "_view_count": null,
            "_view_module": "@jupyter-widgets/base",
            "_view_module_version": "1.2.0",
            "_view_name": "LayoutView",
            "align_content": null,
            "align_items": null,
            "align_self": null,
            "border": null,
            "bottom": null,
            "display": null,
            "flex": null,
            "flex_flow": null,
            "grid_area": null,
            "grid_auto_columns": null,
            "grid_auto_flow": null,
            "grid_auto_rows": null,
            "grid_column": null,
            "grid_gap": null,
            "grid_row": null,
            "grid_template_areas": null,
            "grid_template_columns": null,
            "grid_template_rows": null,
            "height": null,
            "justify_content": null,
            "justify_items": null,
            "left": null,
            "margin": null,
            "max_height": null,
            "max_width": null,
            "min_height": null,
            "min_width": null,
            "object_fit": null,
            "object_position": null,
            "order": null,
            "overflow": null,
            "overflow_x": null,
            "overflow_y": null,
            "padding": null,
            "right": null,
            "top": null,
            "visibility": null,
            "width": null
          }
        },
        "d925103a8b8b4165860a0a9e8c4612fa": {
          "model_module": "@jupyter-widgets/controls",
          "model_name": "DescriptionStyleModel",
          "model_module_version": "1.5.0",
          "state": {
            "_model_module": "@jupyter-widgets/controls",
            "_model_module_version": "1.5.0",
            "_model_name": "DescriptionStyleModel",
            "_view_count": null,
            "_view_module": "@jupyter-widgets/base",
            "_view_module_version": "1.2.0",
            "_view_name": "StyleView",
            "description_width": ""
          }
        },
        "43346dec9a2c41ef8fdcca285f769c2b": {
          "model_module": "@jupyter-widgets/controls",
          "model_name": "HBoxModel",
          "model_module_version": "1.5.0",
          "state": {
            "_dom_classes": [],
            "_model_module": "@jupyter-widgets/controls",
            "_model_module_version": "1.5.0",
            "_model_name": "HBoxModel",
            "_view_count": null,
            "_view_module": "@jupyter-widgets/controls",
            "_view_module_version": "1.5.0",
            "_view_name": "HBoxView",
            "box_style": "",
            "children": [
              "IPY_MODEL_be391b5569aa4a4ab1d161690275da8c",
              "IPY_MODEL_0c7b63363aef48f2b0c5b182507e63c4",
              "IPY_MODEL_1b40254aa018458fb5942b24e49cd726"
            ],
            "layout": "IPY_MODEL_4ad3880befb64c7aa1ae7754b2f0a626"
          }
        },
        "be391b5569aa4a4ab1d161690275da8c": {
          "model_module": "@jupyter-widgets/controls",
          "model_name": "HTMLModel",
          "model_module_version": "1.5.0",
          "state": {
            "_dom_classes": [],
            "_model_module": "@jupyter-widgets/controls",
            "_model_module_version": "1.5.0",
            "_model_name": "HTMLModel",
            "_view_count": null,
            "_view_module": "@jupyter-widgets/controls",
            "_view_module_version": "1.5.0",
            "_view_name": "HTMLView",
            "description": "",
            "description_tooltip": null,
            "layout": "IPY_MODEL_266312494ec7448d80c47271e41525ab",
            "placeholder": "​",
            "style": "IPY_MODEL_2713e5b26b3946348f1f2499f45ab834",
            "value": "vocab.txt: 100%"
          }
        },
        "0c7b63363aef48f2b0c5b182507e63c4": {
          "model_module": "@jupyter-widgets/controls",
          "model_name": "FloatProgressModel",
          "model_module_version": "1.5.0",
          "state": {
            "_dom_classes": [],
            "_model_module": "@jupyter-widgets/controls",
            "_model_module_version": "1.5.0",
            "_model_name": "FloatProgressModel",
            "_view_count": null,
            "_view_module": "@jupyter-widgets/controls",
            "_view_module_version": "1.5.0",
            "_view_name": "ProgressView",
            "bar_style": "success",
            "description": "",
            "description_tooltip": null,
            "layout": "IPY_MODEL_a0ec07d0bbe942c0b07d51424016529e",
            "max": 231508,
            "min": 0,
            "orientation": "horizontal",
            "style": "IPY_MODEL_be64382018084b338b68b870522de006",
            "value": 231508
          }
        },
        "1b40254aa018458fb5942b24e49cd726": {
          "model_module": "@jupyter-widgets/controls",
          "model_name": "HTMLModel",
          "model_module_version": "1.5.0",
          "state": {
            "_dom_classes": [],
            "_model_module": "@jupyter-widgets/controls",
            "_model_module_version": "1.5.0",
            "_model_name": "HTMLModel",
            "_view_count": null,
            "_view_module": "@jupyter-widgets/controls",
            "_view_module_version": "1.5.0",
            "_view_name": "HTMLView",
            "description": "",
            "description_tooltip": null,
            "layout": "IPY_MODEL_ab14b67d42af46fab31429e98a56086b",
            "placeholder": "​",
            "style": "IPY_MODEL_ef243dc1ec884a919dc2910ca94540ec",
            "value": " 232k/232k [00:00&lt;00:00, 3.51MB/s]"
          }
        },
        "4ad3880befb64c7aa1ae7754b2f0a626": {
          "model_module": "@jupyter-widgets/base",
          "model_name": "LayoutModel",
          "model_module_version": "1.2.0",
          "state": {
            "_model_module": "@jupyter-widgets/base",
            "_model_module_version": "1.2.0",
            "_model_name": "LayoutModel",
            "_view_count": null,
            "_view_module": "@jupyter-widgets/base",
            "_view_module_version": "1.2.0",
            "_view_name": "LayoutView",
            "align_content": null,
            "align_items": null,
            "align_self": null,
            "border": null,
            "bottom": null,
            "display": null,
            "flex": null,
            "flex_flow": null,
            "grid_area": null,
            "grid_auto_columns": null,
            "grid_auto_flow": null,
            "grid_auto_rows": null,
            "grid_column": null,
            "grid_gap": null,
            "grid_row": null,
            "grid_template_areas": null,
            "grid_template_columns": null,
            "grid_template_rows": null,
            "height": null,
            "justify_content": null,
            "justify_items": null,
            "left": null,
            "margin": null,
            "max_height": null,
            "max_width": null,
            "min_height": null,
            "min_width": null,
            "object_fit": null,
            "object_position": null,
            "order": null,
            "overflow": null,
            "overflow_x": null,
            "overflow_y": null,
            "padding": null,
            "right": null,
            "top": null,
            "visibility": null,
            "width": null
          }
        },
        "266312494ec7448d80c47271e41525ab": {
          "model_module": "@jupyter-widgets/base",
          "model_name": "LayoutModel",
          "model_module_version": "1.2.0",
          "state": {
            "_model_module": "@jupyter-widgets/base",
            "_model_module_version": "1.2.0",
            "_model_name": "LayoutModel",
            "_view_count": null,
            "_view_module": "@jupyter-widgets/base",
            "_view_module_version": "1.2.0",
            "_view_name": "LayoutView",
            "align_content": null,
            "align_items": null,
            "align_self": null,
            "border": null,
            "bottom": null,
            "display": null,
            "flex": null,
            "flex_flow": null,
            "grid_area": null,
            "grid_auto_columns": null,
            "grid_auto_flow": null,
            "grid_auto_rows": null,
            "grid_column": null,
            "grid_gap": null,
            "grid_row": null,
            "grid_template_areas": null,
            "grid_template_columns": null,
            "grid_template_rows": null,
            "height": null,
            "justify_content": null,
            "justify_items": null,
            "left": null,
            "margin": null,
            "max_height": null,
            "max_width": null,
            "min_height": null,
            "min_width": null,
            "object_fit": null,
            "object_position": null,
            "order": null,
            "overflow": null,
            "overflow_x": null,
            "overflow_y": null,
            "padding": null,
            "right": null,
            "top": null,
            "visibility": null,
            "width": null
          }
        },
        "2713e5b26b3946348f1f2499f45ab834": {
          "model_module": "@jupyter-widgets/controls",
          "model_name": "DescriptionStyleModel",
          "model_module_version": "1.5.0",
          "state": {
            "_model_module": "@jupyter-widgets/controls",
            "_model_module_version": "1.5.0",
            "_model_name": "DescriptionStyleModel",
            "_view_count": null,
            "_view_module": "@jupyter-widgets/base",
            "_view_module_version": "1.2.0",
            "_view_name": "StyleView",
            "description_width": ""
          }
        },
        "a0ec07d0bbe942c0b07d51424016529e": {
          "model_module": "@jupyter-widgets/base",
          "model_name": "LayoutModel",
          "model_module_version": "1.2.0",
          "state": {
            "_model_module": "@jupyter-widgets/base",
            "_model_module_version": "1.2.0",
            "_model_name": "LayoutModel",
            "_view_count": null,
            "_view_module": "@jupyter-widgets/base",
            "_view_module_version": "1.2.0",
            "_view_name": "LayoutView",
            "align_content": null,
            "align_items": null,
            "align_self": null,
            "border": null,
            "bottom": null,
            "display": null,
            "flex": null,
            "flex_flow": null,
            "grid_area": null,
            "grid_auto_columns": null,
            "grid_auto_flow": null,
            "grid_auto_rows": null,
            "grid_column": null,
            "grid_gap": null,
            "grid_row": null,
            "grid_template_areas": null,
            "grid_template_columns": null,
            "grid_template_rows": null,
            "height": null,
            "justify_content": null,
            "justify_items": null,
            "left": null,
            "margin": null,
            "max_height": null,
            "max_width": null,
            "min_height": null,
            "min_width": null,
            "object_fit": null,
            "object_position": null,
            "order": null,
            "overflow": null,
            "overflow_x": null,
            "overflow_y": null,
            "padding": null,
            "right": null,
            "top": null,
            "visibility": null,
            "width": null
          }
        },
        "be64382018084b338b68b870522de006": {
          "model_module": "@jupyter-widgets/controls",
          "model_name": "ProgressStyleModel",
          "model_module_version": "1.5.0",
          "state": {
            "_model_module": "@jupyter-widgets/controls",
            "_model_module_version": "1.5.0",
            "_model_name": "ProgressStyleModel",
            "_view_count": null,
            "_view_module": "@jupyter-widgets/base",
            "_view_module_version": "1.2.0",
            "_view_name": "StyleView",
            "bar_color": null,
            "description_width": ""
          }
        },
        "ab14b67d42af46fab31429e98a56086b": {
          "model_module": "@jupyter-widgets/base",
          "model_name": "LayoutModel",
          "model_module_version": "1.2.0",
          "state": {
            "_model_module": "@jupyter-widgets/base",
            "_model_module_version": "1.2.0",
            "_model_name": "LayoutModel",
            "_view_count": null,
            "_view_module": "@jupyter-widgets/base",
            "_view_module_version": "1.2.0",
            "_view_name": "LayoutView",
            "align_content": null,
            "align_items": null,
            "align_self": null,
            "border": null,
            "bottom": null,
            "display": null,
            "flex": null,
            "flex_flow": null,
            "grid_area": null,
            "grid_auto_columns": null,
            "grid_auto_flow": null,
            "grid_auto_rows": null,
            "grid_column": null,
            "grid_gap": null,
            "grid_row": null,
            "grid_template_areas": null,
            "grid_template_columns": null,
            "grid_template_rows": null,
            "height": null,
            "justify_content": null,
            "justify_items": null,
            "left": null,
            "margin": null,
            "max_height": null,
            "max_width": null,
            "min_height": null,
            "min_width": null,
            "object_fit": null,
            "object_position": null,
            "order": null,
            "overflow": null,
            "overflow_x": null,
            "overflow_y": null,
            "padding": null,
            "right": null,
            "top": null,
            "visibility": null,
            "width": null
          }
        },
        "ef243dc1ec884a919dc2910ca94540ec": {
          "model_module": "@jupyter-widgets/controls",
          "model_name": "DescriptionStyleModel",
          "model_module_version": "1.5.0",
          "state": {
            "_model_module": "@jupyter-widgets/controls",
            "_model_module_version": "1.5.0",
            "_model_name": "DescriptionStyleModel",
            "_view_count": null,
            "_view_module": "@jupyter-widgets/base",
            "_view_module_version": "1.2.0",
            "_view_name": "StyleView",
            "description_width": ""
          }
        },
        "fca49efc633442c9b95c7f3971243aa4": {
          "model_module": "@jupyter-widgets/controls",
          "model_name": "HBoxModel",
          "model_module_version": "1.5.0",
          "state": {
            "_dom_classes": [],
            "_model_module": "@jupyter-widgets/controls",
            "_model_module_version": "1.5.0",
            "_model_name": "HBoxModel",
            "_view_count": null,
            "_view_module": "@jupyter-widgets/controls",
            "_view_module_version": "1.5.0",
            "_view_name": "HBoxView",
            "box_style": "",
            "children": [
              "IPY_MODEL_3af5a641cd4c43968633e37dedc146f2",
              "IPY_MODEL_227542acf3b74aff82a1416b9cb2432e",
              "IPY_MODEL_6771ea98795043839d838f89038a0489"
            ],
            "layout": "IPY_MODEL_dd78ef98f4c94114bd1a763b35c8c2e3"
          }
        },
        "3af5a641cd4c43968633e37dedc146f2": {
          "model_module": "@jupyter-widgets/controls",
          "model_name": "HTMLModel",
          "model_module_version": "1.5.0",
          "state": {
            "_dom_classes": [],
            "_model_module": "@jupyter-widgets/controls",
            "_model_module_version": "1.5.0",
            "_model_name": "HTMLModel",
            "_view_count": null,
            "_view_module": "@jupyter-widgets/controls",
            "_view_module_version": "1.5.0",
            "_view_name": "HTMLView",
            "description": "",
            "description_tooltip": null,
            "layout": "IPY_MODEL_51e9c99710274bc0a1b9533bba1e1bd6",
            "placeholder": "​",
            "style": "IPY_MODEL_908d26273dc84666815fd88ede2590f5",
            "value": "tokenizer.json: 100%"
          }
        },
        "227542acf3b74aff82a1416b9cb2432e": {
          "model_module": "@jupyter-widgets/controls",
          "model_name": "FloatProgressModel",
          "model_module_version": "1.5.0",
          "state": {
            "_dom_classes": [],
            "_model_module": "@jupyter-widgets/controls",
            "_model_module_version": "1.5.0",
            "_model_name": "FloatProgressModel",
            "_view_count": null,
            "_view_module": "@jupyter-widgets/controls",
            "_view_module_version": "1.5.0",
            "_view_name": "ProgressView",
            "bar_style": "success",
            "description": "",
            "description_tooltip": null,
            "layout": "IPY_MODEL_71add95447c74060ba93f867a6cd667d",
            "max": 466062,
            "min": 0,
            "orientation": "horizontal",
            "style": "IPY_MODEL_01af883ef2e94320b616cbaf386593ae",
            "value": 466062
          }
        },
        "6771ea98795043839d838f89038a0489": {
          "model_module": "@jupyter-widgets/controls",
          "model_name": "HTMLModel",
          "model_module_version": "1.5.0",
          "state": {
            "_dom_classes": [],
            "_model_module": "@jupyter-widgets/controls",
            "_model_module_version": "1.5.0",
            "_model_name": "HTMLModel",
            "_view_count": null,
            "_view_module": "@jupyter-widgets/controls",
            "_view_module_version": "1.5.0",
            "_view_name": "HTMLView",
            "description": "",
            "description_tooltip": null,
            "layout": "IPY_MODEL_6e578d88a73a4e6ab520ea2fec1e61c3",
            "placeholder": "​",
            "style": "IPY_MODEL_f48a5df7b7e141c7ad5c8504c3c9e47e",
            "value": " 466k/466k [00:00&lt;00:00, 6.23MB/s]"
          }
        },
        "dd78ef98f4c94114bd1a763b35c8c2e3": {
          "model_module": "@jupyter-widgets/base",
          "model_name": "LayoutModel",
          "model_module_version": "1.2.0",
          "state": {
            "_model_module": "@jupyter-widgets/base",
            "_model_module_version": "1.2.0",
            "_model_name": "LayoutModel",
            "_view_count": null,
            "_view_module": "@jupyter-widgets/base",
            "_view_module_version": "1.2.0",
            "_view_name": "LayoutView",
            "align_content": null,
            "align_items": null,
            "align_self": null,
            "border": null,
            "bottom": null,
            "display": null,
            "flex": null,
            "flex_flow": null,
            "grid_area": null,
            "grid_auto_columns": null,
            "grid_auto_flow": null,
            "grid_auto_rows": null,
            "grid_column": null,
            "grid_gap": null,
            "grid_row": null,
            "grid_template_areas": null,
            "grid_template_columns": null,
            "grid_template_rows": null,
            "height": null,
            "justify_content": null,
            "justify_items": null,
            "left": null,
            "margin": null,
            "max_height": null,
            "max_width": null,
            "min_height": null,
            "min_width": null,
            "object_fit": null,
            "object_position": null,
            "order": null,
            "overflow": null,
            "overflow_x": null,
            "overflow_y": null,
            "padding": null,
            "right": null,
            "top": null,
            "visibility": null,
            "width": null
          }
        },
        "51e9c99710274bc0a1b9533bba1e1bd6": {
          "model_module": "@jupyter-widgets/base",
          "model_name": "LayoutModel",
          "model_module_version": "1.2.0",
          "state": {
            "_model_module": "@jupyter-widgets/base",
            "_model_module_version": "1.2.0",
            "_model_name": "LayoutModel",
            "_view_count": null,
            "_view_module": "@jupyter-widgets/base",
            "_view_module_version": "1.2.0",
            "_view_name": "LayoutView",
            "align_content": null,
            "align_items": null,
            "align_self": null,
            "border": null,
            "bottom": null,
            "display": null,
            "flex": null,
            "flex_flow": null,
            "grid_area": null,
            "grid_auto_columns": null,
            "grid_auto_flow": null,
            "grid_auto_rows": null,
            "grid_column": null,
            "grid_gap": null,
            "grid_row": null,
            "grid_template_areas": null,
            "grid_template_columns": null,
            "grid_template_rows": null,
            "height": null,
            "justify_content": null,
            "justify_items": null,
            "left": null,
            "margin": null,
            "max_height": null,
            "max_width": null,
            "min_height": null,
            "min_width": null,
            "object_fit": null,
            "object_position": null,
            "order": null,
            "overflow": null,
            "overflow_x": null,
            "overflow_y": null,
            "padding": null,
            "right": null,
            "top": null,
            "visibility": null,
            "width": null
          }
        },
        "908d26273dc84666815fd88ede2590f5": {
          "model_module": "@jupyter-widgets/controls",
          "model_name": "DescriptionStyleModel",
          "model_module_version": "1.5.0",
          "state": {
            "_model_module": "@jupyter-widgets/controls",
            "_model_module_version": "1.5.0",
            "_model_name": "DescriptionStyleModel",
            "_view_count": null,
            "_view_module": "@jupyter-widgets/base",
            "_view_module_version": "1.2.0",
            "_view_name": "StyleView",
            "description_width": ""
          }
        },
        "71add95447c74060ba93f867a6cd667d": {
          "model_module": "@jupyter-widgets/base",
          "model_name": "LayoutModel",
          "model_module_version": "1.2.0",
          "state": {
            "_model_module": "@jupyter-widgets/base",
            "_model_module_version": "1.2.0",
            "_model_name": "LayoutModel",
            "_view_count": null,
            "_view_module": "@jupyter-widgets/base",
            "_view_module_version": "1.2.0",
            "_view_name": "LayoutView",
            "align_content": null,
            "align_items": null,
            "align_self": null,
            "border": null,
            "bottom": null,
            "display": null,
            "flex": null,
            "flex_flow": null,
            "grid_area": null,
            "grid_auto_columns": null,
            "grid_auto_flow": null,
            "grid_auto_rows": null,
            "grid_column": null,
            "grid_gap": null,
            "grid_row": null,
            "grid_template_areas": null,
            "grid_template_columns": null,
            "grid_template_rows": null,
            "height": null,
            "justify_content": null,
            "justify_items": null,
            "left": null,
            "margin": null,
            "max_height": null,
            "max_width": null,
            "min_height": null,
            "min_width": null,
            "object_fit": null,
            "object_position": null,
            "order": null,
            "overflow": null,
            "overflow_x": null,
            "overflow_y": null,
            "padding": null,
            "right": null,
            "top": null,
            "visibility": null,
            "width": null
          }
        },
        "01af883ef2e94320b616cbaf386593ae": {
          "model_module": "@jupyter-widgets/controls",
          "model_name": "ProgressStyleModel",
          "model_module_version": "1.5.0",
          "state": {
            "_model_module": "@jupyter-widgets/controls",
            "_model_module_version": "1.5.0",
            "_model_name": "ProgressStyleModel",
            "_view_count": null,
            "_view_module": "@jupyter-widgets/base",
            "_view_module_version": "1.2.0",
            "_view_name": "StyleView",
            "bar_color": null,
            "description_width": ""
          }
        },
        "6e578d88a73a4e6ab520ea2fec1e61c3": {
          "model_module": "@jupyter-widgets/base",
          "model_name": "LayoutModel",
          "model_module_version": "1.2.0",
          "state": {
            "_model_module": "@jupyter-widgets/base",
            "_model_module_version": "1.2.0",
            "_model_name": "LayoutModel",
            "_view_count": null,
            "_view_module": "@jupyter-widgets/base",
            "_view_module_version": "1.2.0",
            "_view_name": "LayoutView",
            "align_content": null,
            "align_items": null,
            "align_self": null,
            "border": null,
            "bottom": null,
            "display": null,
            "flex": null,
            "flex_flow": null,
            "grid_area": null,
            "grid_auto_columns": null,
            "grid_auto_flow": null,
            "grid_auto_rows": null,
            "grid_column": null,
            "grid_gap": null,
            "grid_row": null,
            "grid_template_areas": null,
            "grid_template_columns": null,
            "grid_template_rows": null,
            "height": null,
            "justify_content": null,
            "justify_items": null,
            "left": null,
            "margin": null,
            "max_height": null,
            "max_width": null,
            "min_height": null,
            "min_width": null,
            "object_fit": null,
            "object_position": null,
            "order": null,
            "overflow": null,
            "overflow_x": null,
            "overflow_y": null,
            "padding": null,
            "right": null,
            "top": null,
            "visibility": null,
            "width": null
          }
        },
        "f48a5df7b7e141c7ad5c8504c3c9e47e": {
          "model_module": "@jupyter-widgets/controls",
          "model_name": "DescriptionStyleModel",
          "model_module_version": "1.5.0",
          "state": {
            "_model_module": "@jupyter-widgets/controls",
            "_model_module_version": "1.5.0",
            "_model_name": "DescriptionStyleModel",
            "_view_count": null,
            "_view_module": "@jupyter-widgets/base",
            "_view_module_version": "1.2.0",
            "_view_name": "StyleView",
            "description_width": ""
          }
        },
        "9a4db5a5b54a463f86f3d40c910c7de2": {
          "model_module": "@jupyter-widgets/controls",
          "model_name": "HBoxModel",
          "model_module_version": "1.5.0",
          "state": {
            "_dom_classes": [],
            "_model_module": "@jupyter-widgets/controls",
            "_model_module_version": "1.5.0",
            "_model_name": "HBoxModel",
            "_view_count": null,
            "_view_module": "@jupyter-widgets/controls",
            "_view_module_version": "1.5.0",
            "_view_name": "HBoxView",
            "box_style": "",
            "children": [
              "IPY_MODEL_53cdb2736def405b83a48836237a5369",
              "IPY_MODEL_5dd9f895d95f4b939e6f63b8ecee9c6b",
              "IPY_MODEL_9c4f3fd85f054c61957b00d3f92504be"
            ],
            "layout": "IPY_MODEL_4d2bdfb644df47e8822cfdfded25b6dd"
          }
        },
        "53cdb2736def405b83a48836237a5369": {
          "model_module": "@jupyter-widgets/controls",
          "model_name": "HTMLModel",
          "model_module_version": "1.5.0",
          "state": {
            "_dom_classes": [],
            "_model_module": "@jupyter-widgets/controls",
            "_model_module_version": "1.5.0",
            "_model_name": "HTMLModel",
            "_view_count": null,
            "_view_module": "@jupyter-widgets/controls",
            "_view_module_version": "1.5.0",
            "_view_name": "HTMLView",
            "description": "",
            "description_tooltip": null,
            "layout": "IPY_MODEL_c4469dd66e044eccb8e16f6e54b44ad6",
            "placeholder": "​",
            "style": "IPY_MODEL_85810b12ec8c4a7992f04a0650e20455",
            "value": "config.json: 100%"
          }
        },
        "5dd9f895d95f4b939e6f63b8ecee9c6b": {
          "model_module": "@jupyter-widgets/controls",
          "model_name": "FloatProgressModel",
          "model_module_version": "1.5.0",
          "state": {
            "_dom_classes": [],
            "_model_module": "@jupyter-widgets/controls",
            "_model_module_version": "1.5.0",
            "_model_name": "FloatProgressModel",
            "_view_count": null,
            "_view_module": "@jupyter-widgets/controls",
            "_view_module_version": "1.5.0",
            "_view_name": "ProgressView",
            "bar_style": "success",
            "description": "",
            "description_tooltip": null,
            "layout": "IPY_MODEL_e030a80646d44363a23af1ffe34fef4a",
            "max": 570,
            "min": 0,
            "orientation": "horizontal",
            "style": "IPY_MODEL_1d83b2bb6a484531b97df6b6ea54b4ca",
            "value": 570
          }
        },
        "9c4f3fd85f054c61957b00d3f92504be": {
          "model_module": "@jupyter-widgets/controls",
          "model_name": "HTMLModel",
          "model_module_version": "1.5.0",
          "state": {
            "_dom_classes": [],
            "_model_module": "@jupyter-widgets/controls",
            "_model_module_version": "1.5.0",
            "_model_name": "HTMLModel",
            "_view_count": null,
            "_view_module": "@jupyter-widgets/controls",
            "_view_module_version": "1.5.0",
            "_view_name": "HTMLView",
            "description": "",
            "description_tooltip": null,
            "layout": "IPY_MODEL_c18bd39044a04d99b4675d4310b2a1e6",
            "placeholder": "​",
            "style": "IPY_MODEL_d58b0d9627a04eeda7a100eb91f1f6db",
            "value": " 570/570 [00:00&lt;00:00, 34.8kB/s]"
          }
        },
        "4d2bdfb644df47e8822cfdfded25b6dd": {
          "model_module": "@jupyter-widgets/base",
          "model_name": "LayoutModel",
          "model_module_version": "1.2.0",
          "state": {
            "_model_module": "@jupyter-widgets/base",
            "_model_module_version": "1.2.0",
            "_model_name": "LayoutModel",
            "_view_count": null,
            "_view_module": "@jupyter-widgets/base",
            "_view_module_version": "1.2.0",
            "_view_name": "LayoutView",
            "align_content": null,
            "align_items": null,
            "align_self": null,
            "border": null,
            "bottom": null,
            "display": null,
            "flex": null,
            "flex_flow": null,
            "grid_area": null,
            "grid_auto_columns": null,
            "grid_auto_flow": null,
            "grid_auto_rows": null,
            "grid_column": null,
            "grid_gap": null,
            "grid_row": null,
            "grid_template_areas": null,
            "grid_template_columns": null,
            "grid_template_rows": null,
            "height": null,
            "justify_content": null,
            "justify_items": null,
            "left": null,
            "margin": null,
            "max_height": null,
            "max_width": null,
            "min_height": null,
            "min_width": null,
            "object_fit": null,
            "object_position": null,
            "order": null,
            "overflow": null,
            "overflow_x": null,
            "overflow_y": null,
            "padding": null,
            "right": null,
            "top": null,
            "visibility": null,
            "width": null
          }
        },
        "c4469dd66e044eccb8e16f6e54b44ad6": {
          "model_module": "@jupyter-widgets/base",
          "model_name": "LayoutModel",
          "model_module_version": "1.2.0",
          "state": {
            "_model_module": "@jupyter-widgets/base",
            "_model_module_version": "1.2.0",
            "_model_name": "LayoutModel",
            "_view_count": null,
            "_view_module": "@jupyter-widgets/base",
            "_view_module_version": "1.2.0",
            "_view_name": "LayoutView",
            "align_content": null,
            "align_items": null,
            "align_self": null,
            "border": null,
            "bottom": null,
            "display": null,
            "flex": null,
            "flex_flow": null,
            "grid_area": null,
            "grid_auto_columns": null,
            "grid_auto_flow": null,
            "grid_auto_rows": null,
            "grid_column": null,
            "grid_gap": null,
            "grid_row": null,
            "grid_template_areas": null,
            "grid_template_columns": null,
            "grid_template_rows": null,
            "height": null,
            "justify_content": null,
            "justify_items": null,
            "left": null,
            "margin": null,
            "max_height": null,
            "max_width": null,
            "min_height": null,
            "min_width": null,
            "object_fit": null,
            "object_position": null,
            "order": null,
            "overflow": null,
            "overflow_x": null,
            "overflow_y": null,
            "padding": null,
            "right": null,
            "top": null,
            "visibility": null,
            "width": null
          }
        },
        "85810b12ec8c4a7992f04a0650e20455": {
          "model_module": "@jupyter-widgets/controls",
          "model_name": "DescriptionStyleModel",
          "model_module_version": "1.5.0",
          "state": {
            "_model_module": "@jupyter-widgets/controls",
            "_model_module_version": "1.5.0",
            "_model_name": "DescriptionStyleModel",
            "_view_count": null,
            "_view_module": "@jupyter-widgets/base",
            "_view_module_version": "1.2.0",
            "_view_name": "StyleView",
            "description_width": ""
          }
        },
        "e030a80646d44363a23af1ffe34fef4a": {
          "model_module": "@jupyter-widgets/base",
          "model_name": "LayoutModel",
          "model_module_version": "1.2.0",
          "state": {
            "_model_module": "@jupyter-widgets/base",
            "_model_module_version": "1.2.0",
            "_model_name": "LayoutModel",
            "_view_count": null,
            "_view_module": "@jupyter-widgets/base",
            "_view_module_version": "1.2.0",
            "_view_name": "LayoutView",
            "align_content": null,
            "align_items": null,
            "align_self": null,
            "border": null,
            "bottom": null,
            "display": null,
            "flex": null,
            "flex_flow": null,
            "grid_area": null,
            "grid_auto_columns": null,
            "grid_auto_flow": null,
            "grid_auto_rows": null,
            "grid_column": null,
            "grid_gap": null,
            "grid_row": null,
            "grid_template_areas": null,
            "grid_template_columns": null,
            "grid_template_rows": null,
            "height": null,
            "justify_content": null,
            "justify_items": null,
            "left": null,
            "margin": null,
            "max_height": null,
            "max_width": null,
            "min_height": null,
            "min_width": null,
            "object_fit": null,
            "object_position": null,
            "order": null,
            "overflow": null,
            "overflow_x": null,
            "overflow_y": null,
            "padding": null,
            "right": null,
            "top": null,
            "visibility": null,
            "width": null
          }
        },
        "1d83b2bb6a484531b97df6b6ea54b4ca": {
          "model_module": "@jupyter-widgets/controls",
          "model_name": "ProgressStyleModel",
          "model_module_version": "1.5.0",
          "state": {
            "_model_module": "@jupyter-widgets/controls",
            "_model_module_version": "1.5.0",
            "_model_name": "ProgressStyleModel",
            "_view_count": null,
            "_view_module": "@jupyter-widgets/base",
            "_view_module_version": "1.2.0",
            "_view_name": "StyleView",
            "bar_color": null,
            "description_width": ""
          }
        },
        "c18bd39044a04d99b4675d4310b2a1e6": {
          "model_module": "@jupyter-widgets/base",
          "model_name": "LayoutModel",
          "model_module_version": "1.2.0",
          "state": {
            "_model_module": "@jupyter-widgets/base",
            "_model_module_version": "1.2.0",
            "_model_name": "LayoutModel",
            "_view_count": null,
            "_view_module": "@jupyter-widgets/base",
            "_view_module_version": "1.2.0",
            "_view_name": "LayoutView",
            "align_content": null,
            "align_items": null,
            "align_self": null,
            "border": null,
            "bottom": null,
            "display": null,
            "flex": null,
            "flex_flow": null,
            "grid_area": null,
            "grid_auto_columns": null,
            "grid_auto_flow": null,
            "grid_auto_rows": null,
            "grid_column": null,
            "grid_gap": null,
            "grid_row": null,
            "grid_template_areas": null,
            "grid_template_columns": null,
            "grid_template_rows": null,
            "height": null,
            "justify_content": null,
            "justify_items": null,
            "left": null,
            "margin": null,
            "max_height": null,
            "max_width": null,
            "min_height": null,
            "min_width": null,
            "object_fit": null,
            "object_position": null,
            "order": null,
            "overflow": null,
            "overflow_x": null,
            "overflow_y": null,
            "padding": null,
            "right": null,
            "top": null,
            "visibility": null,
            "width": null
          }
        },
        "d58b0d9627a04eeda7a100eb91f1f6db": {
          "model_module": "@jupyter-widgets/controls",
          "model_name": "DescriptionStyleModel",
          "model_module_version": "1.5.0",
          "state": {
            "_model_module": "@jupyter-widgets/controls",
            "_model_module_version": "1.5.0",
            "_model_name": "DescriptionStyleModel",
            "_view_count": null,
            "_view_module": "@jupyter-widgets/base",
            "_view_module_version": "1.2.0",
            "_view_name": "StyleView",
            "description_width": ""
          }
        },
        "a438660e7a2f4762925242642236a008": {
          "model_module": "@jupyter-widgets/controls",
          "model_name": "HBoxModel",
          "model_module_version": "1.5.0",
          "state": {
            "_dom_classes": [],
            "_model_module": "@jupyter-widgets/controls",
            "_model_module_version": "1.5.0",
            "_model_name": "HBoxModel",
            "_view_count": null,
            "_view_module": "@jupyter-widgets/controls",
            "_view_module_version": "1.5.0",
            "_view_name": "HBoxView",
            "box_style": "",
            "children": [
              "IPY_MODEL_d6e0cd93c2894a0b812f17be6234ed7f",
              "IPY_MODEL_8cb6aaad0694450e8d2d2c7c606de394",
              "IPY_MODEL_e1cb683159594c8fabc37ecb0404126b"
            ],
            "layout": "IPY_MODEL_1c9d71cc6710425196b9d716500de4c7"
          }
        },
        "d6e0cd93c2894a0b812f17be6234ed7f": {
          "model_module": "@jupyter-widgets/controls",
          "model_name": "HTMLModel",
          "model_module_version": "1.5.0",
          "state": {
            "_dom_classes": [],
            "_model_module": "@jupyter-widgets/controls",
            "_model_module_version": "1.5.0",
            "_model_name": "HTMLModel",
            "_view_count": null,
            "_view_module": "@jupyter-widgets/controls",
            "_view_module_version": "1.5.0",
            "_view_name": "HTMLView",
            "description": "",
            "description_tooltip": null,
            "layout": "IPY_MODEL_a936b5efd55d43c7a84d19cb0455d956",
            "placeholder": "​",
            "style": "IPY_MODEL_559a6392e6624ea3a654f99f0473705e",
            "value": "model.safetensors: 100%"
          }
        },
        "8cb6aaad0694450e8d2d2c7c606de394": {
          "model_module": "@jupyter-widgets/controls",
          "model_name": "FloatProgressModel",
          "model_module_version": "1.5.0",
          "state": {
            "_dom_classes": [],
            "_model_module": "@jupyter-widgets/controls",
            "_model_module_version": "1.5.0",
            "_model_name": "FloatProgressModel",
            "_view_count": null,
            "_view_module": "@jupyter-widgets/controls",
            "_view_module_version": "1.5.0",
            "_view_name": "ProgressView",
            "bar_style": "success",
            "description": "",
            "description_tooltip": null,
            "layout": "IPY_MODEL_20277397fdf449e59289c537a05cb56b",
            "max": 440449768,
            "min": 0,
            "orientation": "horizontal",
            "style": "IPY_MODEL_0a55bef6a1eb4a668b2509aef1540ffe",
            "value": 440449768
          }
        },
        "e1cb683159594c8fabc37ecb0404126b": {
          "model_module": "@jupyter-widgets/controls",
          "model_name": "HTMLModel",
          "model_module_version": "1.5.0",
          "state": {
            "_dom_classes": [],
            "_model_module": "@jupyter-widgets/controls",
            "_model_module_version": "1.5.0",
            "_model_name": "HTMLModel",
            "_view_count": null,
            "_view_module": "@jupyter-widgets/controls",
            "_view_module_version": "1.5.0",
            "_view_name": "HTMLView",
            "description": "",
            "description_tooltip": null,
            "layout": "IPY_MODEL_015f4e118e5946089e51c11ddf21023d",
            "placeholder": "​",
            "style": "IPY_MODEL_2778716bfcd648be848ec08a8aacc4ee",
            "value": " 440M/440M [00:03&lt;00:00, 138MB/s]"
          }
        },
        "1c9d71cc6710425196b9d716500de4c7": {
          "model_module": "@jupyter-widgets/base",
          "model_name": "LayoutModel",
          "model_module_version": "1.2.0",
          "state": {
            "_model_module": "@jupyter-widgets/base",
            "_model_module_version": "1.2.0",
            "_model_name": "LayoutModel",
            "_view_count": null,
            "_view_module": "@jupyter-widgets/base",
            "_view_module_version": "1.2.0",
            "_view_name": "LayoutView",
            "align_content": null,
            "align_items": null,
            "align_self": null,
            "border": null,
            "bottom": null,
            "display": null,
            "flex": null,
            "flex_flow": null,
            "grid_area": null,
            "grid_auto_columns": null,
            "grid_auto_flow": null,
            "grid_auto_rows": null,
            "grid_column": null,
            "grid_gap": null,
            "grid_row": null,
            "grid_template_areas": null,
            "grid_template_columns": null,
            "grid_template_rows": null,
            "height": null,
            "justify_content": null,
            "justify_items": null,
            "left": null,
            "margin": null,
            "max_height": null,
            "max_width": null,
            "min_height": null,
            "min_width": null,
            "object_fit": null,
            "object_position": null,
            "order": null,
            "overflow": null,
            "overflow_x": null,
            "overflow_y": null,
            "padding": null,
            "right": null,
            "top": null,
            "visibility": null,
            "width": null
          }
        },
        "a936b5efd55d43c7a84d19cb0455d956": {
          "model_module": "@jupyter-widgets/base",
          "model_name": "LayoutModel",
          "model_module_version": "1.2.0",
          "state": {
            "_model_module": "@jupyter-widgets/base",
            "_model_module_version": "1.2.0",
            "_model_name": "LayoutModel",
            "_view_count": null,
            "_view_module": "@jupyter-widgets/base",
            "_view_module_version": "1.2.0",
            "_view_name": "LayoutView",
            "align_content": null,
            "align_items": null,
            "align_self": null,
            "border": null,
            "bottom": null,
            "display": null,
            "flex": null,
            "flex_flow": null,
            "grid_area": null,
            "grid_auto_columns": null,
            "grid_auto_flow": null,
            "grid_auto_rows": null,
            "grid_column": null,
            "grid_gap": null,
            "grid_row": null,
            "grid_template_areas": null,
            "grid_template_columns": null,
            "grid_template_rows": null,
            "height": null,
            "justify_content": null,
            "justify_items": null,
            "left": null,
            "margin": null,
            "max_height": null,
            "max_width": null,
            "min_height": null,
            "min_width": null,
            "object_fit": null,
            "object_position": null,
            "order": null,
            "overflow": null,
            "overflow_x": null,
            "overflow_y": null,
            "padding": null,
            "right": null,
            "top": null,
            "visibility": null,
            "width": null
          }
        },
        "559a6392e6624ea3a654f99f0473705e": {
          "model_module": "@jupyter-widgets/controls",
          "model_name": "DescriptionStyleModel",
          "model_module_version": "1.5.0",
          "state": {
            "_model_module": "@jupyter-widgets/controls",
            "_model_module_version": "1.5.0",
            "_model_name": "DescriptionStyleModel",
            "_view_count": null,
            "_view_module": "@jupyter-widgets/base",
            "_view_module_version": "1.2.0",
            "_view_name": "StyleView",
            "description_width": ""
          }
        },
        "20277397fdf449e59289c537a05cb56b": {
          "model_module": "@jupyter-widgets/base",
          "model_name": "LayoutModel",
          "model_module_version": "1.2.0",
          "state": {
            "_model_module": "@jupyter-widgets/base",
            "_model_module_version": "1.2.0",
            "_model_name": "LayoutModel",
            "_view_count": null,
            "_view_module": "@jupyter-widgets/base",
            "_view_module_version": "1.2.0",
            "_view_name": "LayoutView",
            "align_content": null,
            "align_items": null,
            "align_self": null,
            "border": null,
            "bottom": null,
            "display": null,
            "flex": null,
            "flex_flow": null,
            "grid_area": null,
            "grid_auto_columns": null,
            "grid_auto_flow": null,
            "grid_auto_rows": null,
            "grid_column": null,
            "grid_gap": null,
            "grid_row": null,
            "grid_template_areas": null,
            "grid_template_columns": null,
            "grid_template_rows": null,
            "height": null,
            "justify_content": null,
            "justify_items": null,
            "left": null,
            "margin": null,
            "max_height": null,
            "max_width": null,
            "min_height": null,
            "min_width": null,
            "object_fit": null,
            "object_position": null,
            "order": null,
            "overflow": null,
            "overflow_x": null,
            "overflow_y": null,
            "padding": null,
            "right": null,
            "top": null,
            "visibility": null,
            "width": null
          }
        },
        "0a55bef6a1eb4a668b2509aef1540ffe": {
          "model_module": "@jupyter-widgets/controls",
          "model_name": "ProgressStyleModel",
          "model_module_version": "1.5.0",
          "state": {
            "_model_module": "@jupyter-widgets/controls",
            "_model_module_version": "1.5.0",
            "_model_name": "ProgressStyleModel",
            "_view_count": null,
            "_view_module": "@jupyter-widgets/base",
            "_view_module_version": "1.2.0",
            "_view_name": "StyleView",
            "bar_color": null,
            "description_width": ""
          }
        },
        "015f4e118e5946089e51c11ddf21023d": {
          "model_module": "@jupyter-widgets/base",
          "model_name": "LayoutModel",
          "model_module_version": "1.2.0",
          "state": {
            "_model_module": "@jupyter-widgets/base",
            "_model_module_version": "1.2.0",
            "_model_name": "LayoutModel",
            "_view_count": null,
            "_view_module": "@jupyter-widgets/base",
            "_view_module_version": "1.2.0",
            "_view_name": "LayoutView",
            "align_content": null,
            "align_items": null,
            "align_self": null,
            "border": null,
            "bottom": null,
            "display": null,
            "flex": null,
            "flex_flow": null,
            "grid_area": null,
            "grid_auto_columns": null,
            "grid_auto_flow": null,
            "grid_auto_rows": null,
            "grid_column": null,
            "grid_gap": null,
            "grid_row": null,
            "grid_template_areas": null,
            "grid_template_columns": null,
            "grid_template_rows": null,
            "height": null,
            "justify_content": null,
            "justify_items": null,
            "left": null,
            "margin": null,
            "max_height": null,
            "max_width": null,
            "min_height": null,
            "min_width": null,
            "object_fit": null,
            "object_position": null,
            "order": null,
            "overflow": null,
            "overflow_x": null,
            "overflow_y": null,
            "padding": null,
            "right": null,
            "top": null,
            "visibility": null,
            "width": null
          }
        },
        "2778716bfcd648be848ec08a8aacc4ee": {
          "model_module": "@jupyter-widgets/controls",
          "model_name": "DescriptionStyleModel",
          "model_module_version": "1.5.0",
          "state": {
            "_model_module": "@jupyter-widgets/controls",
            "_model_module_version": "1.5.0",
            "_model_name": "DescriptionStyleModel",
            "_view_count": null,
            "_view_module": "@jupyter-widgets/base",
            "_view_module_version": "1.2.0",
            "_view_name": "StyleView",
            "description_width": ""
          }
        }
      }
    }
  },
  "nbformat": 4,
  "nbformat_minor": 0
}